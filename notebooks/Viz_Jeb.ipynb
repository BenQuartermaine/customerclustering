{
 "cells": [
  {
   "cell_type": "code",
   "execution_count": 7,
   "id": "f2cb9e7d-6cdf-4d70-a4a6-56109d50e922",
   "metadata": {},
   "outputs": [],
   "source": [
    "import os\n",
    "import pymysql\n",
    "import pandas as pd\n",
    "import numpy as np\n",
    "from dotenv import load_dotenv, find_dotenv"
   ]
  },
  {
   "cell_type": "code",
   "execution_count": 8,
   "id": "bf8197c8-54f2-42ab-aa08-1fc08cbba637",
   "metadata": {},
   "outputs": [],
   "source": [
    "from customerclustering.db_connection import Db\n",
    "from customerclustering.get_training_data import *\n",
    "from customerclustering.baseline import *\n",
    "from customerclustering.trainer_v0 import *"
   ]
  },
  {
   "cell_type": "markdown",
   "id": "f18a0485-0a57-498c-a00f-84383d8edf31",
   "metadata": {},
   "source": [
    "# Model Predict"
   ]
  },
  {
   "cell_type": "code",
   "execution_count": 28,
   "id": "16af119f-6c4f-46a4-a4af-d301eff9c513",
   "metadata": {},
   "outputs": [],
   "source": [
    "import joblib\n",
    "import pandas as pd\n",
    "\n",
    "baseline = joblib.load(\"../models/model_v0_withoutpca.joblib\")\n",
    "\n",
    "training_data_df = pd.read_csv(\"../raw_data/training_data_2.csv\", index_col=[0])\n",
    "\n",
    "c = baseline.predict(training_data_df)"
   ]
  },
  {
   "cell_type": "code",
   "execution_count": 29,
   "id": "e58a4f35-c26b-466b-8b5f-7ae0ae431d19",
   "metadata": {},
   "outputs": [],
   "source": [
    "training_data_df_labels = training_data_df.copy()\n",
    "training_data_df_labels['col_labels'] = c"
   ]
  },
  {
   "cell_type": "code",
   "execution_count": 3,
   "id": "55c33164-7c4b-499e-8f51-a23a6e0ddcf9",
   "metadata": {},
   "outputs": [],
   "source": [
    "individual_user = baseline.predict(training_data_df.iloc[:1, :])"
   ]
  },
  {
   "cell_type": "code",
   "execution_count": 4,
   "id": "833ddcec-4010-4ca9-a48a-dc7367219be3",
   "metadata": {},
   "outputs": [
    {
     "data": {
      "text/plain": [
       "array([0], dtype=int32)"
      ]
     },
     "execution_count": 4,
     "metadata": {},
     "output_type": "execute_result"
    }
   ],
   "source": [
    "individual_user"
   ]
  },
  {
   "cell_type": "code",
   "execution_count": 6,
   "id": "b95b2675-ffb3-43c7-b23d-64f659e3a586",
   "metadata": {},
   "outputs": [],
   "source": [
    "# training_data_df_labels.to_csv('../raw_data/df_with_labels2.csv')"
   ]
  },
  {
   "cell_type": "code",
   "execution_count": 9,
   "id": "4ab276ad-f4f1-4572-a39d-ecf94a42e907",
   "metadata": {},
   "outputs": [],
   "source": [
    "cluster_df = pd.read_csv(\"../raw_data/df_with_labels2.csv\",index_col=[0])\n",
    "# cluster_df.head()"
   ]
  },
  {
   "cell_type": "markdown",
   "id": "54932fe2-8144-4110-83ad-1d52cda0d75a",
   "metadata": {},
   "source": [
    "# Features Categorisation"
   ]
  },
  {
   "cell_type": "markdown",
   "id": "76871cd2-d3de-412c-8d5c-8ca9224d6a32",
   "metadata": {},
   "source": [
    "## All features"
   ]
  },
  {
   "cell_type": "code",
   "execution_count": 11,
   "id": "f0f75dfb-2c25-4662-b991-ca317c66f523",
   "metadata": {},
   "outputs": [],
   "source": [
    "import io\n",
    "buffer = io.StringIO()\n",
    "training_data_df.info(buf=buffer)\n",
    "lines = buffer.getvalue().splitlines()\n",
    "column_df = (pd.DataFrame([x.split() for x in lines[6:-2]], columns=lines[3].split())\n",
    "       .drop('Count',axis=1)\n",
    "       .rename(columns={'Non-Null':'Non-Null Count'}))\n",
    "\n",
    "cat_columns = column_df[column_df['Dtype']=='object'].reset_index().Column\n",
    "non_cat_columns = column_df[column_df['Dtype']!='object'].reset_index().Column"
   ]
  },
  {
   "cell_type": "code",
   "execution_count": 34,
   "id": "13a3c920-ff05-4c4e-8a33-d5f39ae98e44",
   "metadata": {},
   "outputs": [
    {
     "data": {
      "text/html": [
       "<style>#sk-container-id-3 {color: black;background-color: white;}#sk-container-id-3 pre{padding: 0;}#sk-container-id-3 div.sk-toggleable {background-color: white;}#sk-container-id-3 label.sk-toggleable__label {cursor: pointer;display: block;width: 100%;margin-bottom: 0;padding: 0.3em;box-sizing: border-box;text-align: center;}#sk-container-id-3 label.sk-toggleable__label-arrow:before {content: \"▸\";float: left;margin-right: 0.25em;color: #696969;}#sk-container-id-3 label.sk-toggleable__label-arrow:hover:before {color: black;}#sk-container-id-3 div.sk-estimator:hover label.sk-toggleable__label-arrow:before {color: black;}#sk-container-id-3 div.sk-toggleable__content {max-height: 0;max-width: 0;overflow: hidden;text-align: left;background-color: #f0f8ff;}#sk-container-id-3 div.sk-toggleable__content pre {margin: 0.2em;color: black;border-radius: 0.25em;background-color: #f0f8ff;}#sk-container-id-3 input.sk-toggleable__control:checked~div.sk-toggleable__content {max-height: 200px;max-width: 100%;overflow: auto;}#sk-container-id-3 input.sk-toggleable__control:checked~label.sk-toggleable__label-arrow:before {content: \"▾\";}#sk-container-id-3 div.sk-estimator input.sk-toggleable__control:checked~label.sk-toggleable__label {background-color: #d4ebff;}#sk-container-id-3 div.sk-label input.sk-toggleable__control:checked~label.sk-toggleable__label {background-color: #d4ebff;}#sk-container-id-3 input.sk-hidden--visually {border: 0;clip: rect(1px 1px 1px 1px);clip: rect(1px, 1px, 1px, 1px);height: 1px;margin: -1px;overflow: hidden;padding: 0;position: absolute;width: 1px;}#sk-container-id-3 div.sk-estimator {font-family: monospace;background-color: #f0f8ff;border: 1px dotted black;border-radius: 0.25em;box-sizing: border-box;margin-bottom: 0.5em;}#sk-container-id-3 div.sk-estimator:hover {background-color: #d4ebff;}#sk-container-id-3 div.sk-parallel-item::after {content: \"\";width: 100%;border-bottom: 1px solid gray;flex-grow: 1;}#sk-container-id-3 div.sk-label:hover label.sk-toggleable__label {background-color: #d4ebff;}#sk-container-id-3 div.sk-serial::before {content: \"\";position: absolute;border-left: 1px solid gray;box-sizing: border-box;top: 0;bottom: 0;left: 50%;z-index: 0;}#sk-container-id-3 div.sk-serial {display: flex;flex-direction: column;align-items: center;background-color: white;padding-right: 0.2em;padding-left: 0.2em;position: relative;}#sk-container-id-3 div.sk-item {position: relative;z-index: 1;}#sk-container-id-3 div.sk-parallel {display: flex;align-items: stretch;justify-content: center;background-color: white;position: relative;}#sk-container-id-3 div.sk-item::before, #sk-container-id-3 div.sk-parallel-item::before {content: \"\";position: absolute;border-left: 1px solid gray;box-sizing: border-box;top: 0;bottom: 0;left: 50%;z-index: -1;}#sk-container-id-3 div.sk-parallel-item {display: flex;flex-direction: column;z-index: 1;position: relative;background-color: white;}#sk-container-id-3 div.sk-parallel-item:first-child::after {align-self: flex-end;width: 50%;}#sk-container-id-3 div.sk-parallel-item:last-child::after {align-self: flex-start;width: 50%;}#sk-container-id-3 div.sk-parallel-item:only-child::after {width: 0;}#sk-container-id-3 div.sk-dashed-wrapped {border: 1px dashed gray;margin: 0 0.4em 0.5em 0.4em;box-sizing: border-box;padding-bottom: 0.4em;background-color: white;}#sk-container-id-3 div.sk-label label {font-family: monospace;font-weight: bold;display: inline-block;line-height: 1.2em;}#sk-container-id-3 div.sk-label-container {text-align: center;}#sk-container-id-3 div.sk-container {/* jupyter's `normalize.less` sets `[hidden] { display: none; }` but bootstrap.min.css set `[hidden] { display: none !important; }` so we also need the `!important` here to be able to override the default hidden behavior on the sphinx rendered scikit-learn.org. See: https://github.com/scikit-learn/scikit-learn/issues/21755 */display: inline-block !important;position: relative;}#sk-container-id-3 div.sk-text-repr-fallback {display: none;}</style><div id=\"sk-container-id-3\" class=\"sk-top-container\"><div class=\"sk-text-repr-fallback\"><pre>Pipeline(steps=[(&#x27;columntransformer&#x27;,\n",
       "                 ColumnTransformer(transformers=[(&#x27;pipeline-1&#x27;,\n",
       "                                                  Pipeline(steps=[(&#x27;simpleimputer&#x27;,\n",
       "                                                                   SimpleImputer(strategy=&#x27;median&#x27;)),\n",
       "                                                                  (&#x27;robustscaler&#x27;,\n",
       "                                                                   RobustScaler())]),\n",
       "                                                  Index([&#x27;num_subs&#x27;, &#x27;account_age&#x27;, &#x27;hasPracticeRecord&#x27;, &#x27;docPerYear&#x27;,\n",
       "       &#x27;docOnAusmedPerYear&#x27;, &#x27;minPerYear&#x27;, &#x27;minOnAusmedPerYear&#x27;,\n",
       "       &#x27;learnFromAusmedRatio_num&#x27;, &#x27;learnFromAusmedRat...\n",
       "                                                                                              [&#x27;canceled&#x27;,\n",
       "                                                                                               &#x27;incomplete_expired&#x27;,\n",
       "                                                                                               &#x27;past_due&#x27;,\n",
       "                                                                                               &#x27;trialing&#x27;,\n",
       "                                                                                               &#x27;active&#x27;],\n",
       "                                                                                              [&#x27;never&#x27;,\n",
       "                                                                                               &#x27;sometimes&#x27;,\n",
       "                                                                                               &#x27;usually&#x27;,\n",
       "                                                                                               &#x27;always&#x27;],\n",
       "                                                                                              [&#x27;monthly&#x27;,\n",
       "                                                                                               &#x27;quarterly&#x27;,\n",
       "                                                                                               &#x27;annually&#x27;]],\n",
       "                                                                                  encoded_missing_value=-1,\n",
       "                                                                                  handle_unknown=&#x27;use_encoded_value&#x27;,\n",
       "                                                                                  unknown_value=-1)),\n",
       "                                                                  (&#x27;robustscaler&#x27;,\n",
       "                                                                   RobustScaler())]),\n",
       "                                                  [&#x27;located&#x27;, &#x27;Status&#x27;,\n",
       "                                                   &#x27;access&#x27;, &#x27;plan_type&#x27;])])),\n",
       "                (&#x27;minibatchkmeans&#x27;, MiniBatchKMeans(n_clusters=4))])</pre><b>In a Jupyter environment, please rerun this cell to show the HTML representation or trust the notebook. <br />On GitHub, the HTML representation is unable to render, please try loading this page with nbviewer.org.</b></div><div class=\"sk-container\" hidden><div class=\"sk-item sk-dashed-wrapped\"><div class=\"sk-label-container\"><div class=\"sk-label sk-toggleable\"><input class=\"sk-toggleable__control sk-hidden--visually\" id=\"sk-estimator-id-19\" type=\"checkbox\" ><label for=\"sk-estimator-id-19\" class=\"sk-toggleable__label sk-toggleable__label-arrow\">Pipeline</label><div class=\"sk-toggleable__content\"><pre>Pipeline(steps=[(&#x27;columntransformer&#x27;,\n",
       "                 ColumnTransformer(transformers=[(&#x27;pipeline-1&#x27;,\n",
       "                                                  Pipeline(steps=[(&#x27;simpleimputer&#x27;,\n",
       "                                                                   SimpleImputer(strategy=&#x27;median&#x27;)),\n",
       "                                                                  (&#x27;robustscaler&#x27;,\n",
       "                                                                   RobustScaler())]),\n",
       "                                                  Index([&#x27;num_subs&#x27;, &#x27;account_age&#x27;, &#x27;hasPracticeRecord&#x27;, &#x27;docPerYear&#x27;,\n",
       "       &#x27;docOnAusmedPerYear&#x27;, &#x27;minPerYear&#x27;, &#x27;minOnAusmedPerYear&#x27;,\n",
       "       &#x27;learnFromAusmedRatio_num&#x27;, &#x27;learnFromAusmedRat...\n",
       "                                                                                              [&#x27;canceled&#x27;,\n",
       "                                                                                               &#x27;incomplete_expired&#x27;,\n",
       "                                                                                               &#x27;past_due&#x27;,\n",
       "                                                                                               &#x27;trialing&#x27;,\n",
       "                                                                                               &#x27;active&#x27;],\n",
       "                                                                                              [&#x27;never&#x27;,\n",
       "                                                                                               &#x27;sometimes&#x27;,\n",
       "                                                                                               &#x27;usually&#x27;,\n",
       "                                                                                               &#x27;always&#x27;],\n",
       "                                                                                              [&#x27;monthly&#x27;,\n",
       "                                                                                               &#x27;quarterly&#x27;,\n",
       "                                                                                               &#x27;annually&#x27;]],\n",
       "                                                                                  encoded_missing_value=-1,\n",
       "                                                                                  handle_unknown=&#x27;use_encoded_value&#x27;,\n",
       "                                                                                  unknown_value=-1)),\n",
       "                                                                  (&#x27;robustscaler&#x27;,\n",
       "                                                                   RobustScaler())]),\n",
       "                                                  [&#x27;located&#x27;, &#x27;Status&#x27;,\n",
       "                                                   &#x27;access&#x27;, &#x27;plan_type&#x27;])])),\n",
       "                (&#x27;minibatchkmeans&#x27;, MiniBatchKMeans(n_clusters=4))])</pre></div></div></div><div class=\"sk-serial\"><div class=\"sk-item sk-dashed-wrapped\"><div class=\"sk-label-container\"><div class=\"sk-label sk-toggleable\"><input class=\"sk-toggleable__control sk-hidden--visually\" id=\"sk-estimator-id-20\" type=\"checkbox\" ><label for=\"sk-estimator-id-20\" class=\"sk-toggleable__label sk-toggleable__label-arrow\">columntransformer: ColumnTransformer</label><div class=\"sk-toggleable__content\"><pre>ColumnTransformer(transformers=[(&#x27;pipeline-1&#x27;,\n",
       "                                 Pipeline(steps=[(&#x27;simpleimputer&#x27;,\n",
       "                                                  SimpleImputer(strategy=&#x27;median&#x27;)),\n",
       "                                                 (&#x27;robustscaler&#x27;,\n",
       "                                                  RobustScaler())]),\n",
       "                                 Index([&#x27;num_subs&#x27;, &#x27;account_age&#x27;, &#x27;hasPracticeRecord&#x27;, &#x27;docPerYear&#x27;,\n",
       "       &#x27;docOnAusmedPerYear&#x27;, &#x27;minPerYear&#x27;, &#x27;minOnAusmedPerYear&#x27;,\n",
       "       &#x27;learnFromAusmedRatio_num&#x27;, &#x27;learnFromAusmedRatio_min&#x27;, &#x27;numQueued&#x27;,\n",
       "       &#x27;numCompletedFrom...\n",
       "                                                                              &#x27;metropolitan &#x27;\n",
       "                                                                              &#x27;centre&#x27;,\n",
       "                                                                              &#x27;metropolitan &#x27;\n",
       "                                                                              &#x27;centre&#x27;,\n",
       "                                                                              &#x27;capital &#x27;\n",
       "                                                                              &#x27;city&#x27;],\n",
       "                                                                             [&#x27;canceled&#x27;,\n",
       "                                                                              &#x27;incomplete_expired&#x27;,\n",
       "                                                                              &#x27;past_due&#x27;,\n",
       "                                                                              &#x27;trialing&#x27;,\n",
       "                                                                              &#x27;active&#x27;],\n",
       "                                                                             [&#x27;never&#x27;,\n",
       "                                                                              &#x27;sometimes&#x27;,\n",
       "                                                                              &#x27;usually&#x27;,\n",
       "                                                                              &#x27;always&#x27;],\n",
       "                                                                             [&#x27;monthly&#x27;,\n",
       "                                                                              &#x27;quarterly&#x27;,\n",
       "                                                                              &#x27;annually&#x27;]],\n",
       "                                                                 encoded_missing_value=-1,\n",
       "                                                                 handle_unknown=&#x27;use_encoded_value&#x27;,\n",
       "                                                                 unknown_value=-1)),\n",
       "                                                 (&#x27;robustscaler&#x27;,\n",
       "                                                  RobustScaler())]),\n",
       "                                 [&#x27;located&#x27;, &#x27;Status&#x27;, &#x27;access&#x27;, &#x27;plan_type&#x27;])])</pre></div></div></div><div class=\"sk-parallel\"><div class=\"sk-parallel-item\"><div class=\"sk-item\"><div class=\"sk-label-container\"><div class=\"sk-label sk-toggleable\"><input class=\"sk-toggleable__control sk-hidden--visually\" id=\"sk-estimator-id-21\" type=\"checkbox\" ><label for=\"sk-estimator-id-21\" class=\"sk-toggleable__label sk-toggleable__label-arrow\">pipeline-1</label><div class=\"sk-toggleable__content\"><pre>Index([&#x27;num_subs&#x27;, &#x27;account_age&#x27;, &#x27;hasPracticeRecord&#x27;, &#x27;docPerYear&#x27;,\n",
       "       &#x27;docOnAusmedPerYear&#x27;, &#x27;minPerYear&#x27;, &#x27;minOnAusmedPerYear&#x27;,\n",
       "       &#x27;learnFromAusmedRatio_num&#x27;, &#x27;learnFromAusmedRatio_min&#x27;, &#x27;numQueued&#x27;,\n",
       "       &#x27;numCompletedFromQueue&#x27;, &#x27;minQueued&#x27;, &#x27;minCompleted&#x27;,\n",
       "       &#x27;RatioOfCompletion_num&#x27;, &#x27;RatioOfCompletion_min&#x27;, &#x27;event_cpd_day_diff&#x27;,\n",
       "       &#x27;doc_in_activation&#x27;, &#x27;activated&#x27;, &#x27;subscribe_days&#x27;, &#x27;GoalsPerYear&#x27;,\n",
       "       &#x27;ratioOfAchivedGoals&#x27;],\n",
       "      dtype=&#x27;object&#x27;)</pre></div></div></div><div class=\"sk-serial\"><div class=\"sk-item\"><div class=\"sk-serial\"><div class=\"sk-item\"><div class=\"sk-estimator sk-toggleable\"><input class=\"sk-toggleable__control sk-hidden--visually\" id=\"sk-estimator-id-22\" type=\"checkbox\" ><label for=\"sk-estimator-id-22\" class=\"sk-toggleable__label sk-toggleable__label-arrow\">SimpleImputer</label><div class=\"sk-toggleable__content\"><pre>SimpleImputer(strategy=&#x27;median&#x27;)</pre></div></div></div><div class=\"sk-item\"><div class=\"sk-estimator sk-toggleable\"><input class=\"sk-toggleable__control sk-hidden--visually\" id=\"sk-estimator-id-23\" type=\"checkbox\" ><label for=\"sk-estimator-id-23\" class=\"sk-toggleable__label sk-toggleable__label-arrow\">RobustScaler</label><div class=\"sk-toggleable__content\"><pre>RobustScaler()</pre></div></div></div></div></div></div></div></div><div class=\"sk-parallel-item\"><div class=\"sk-item\"><div class=\"sk-label-container\"><div class=\"sk-label sk-toggleable\"><input class=\"sk-toggleable__control sk-hidden--visually\" id=\"sk-estimator-id-24\" type=\"checkbox\" ><label for=\"sk-estimator-id-24\" class=\"sk-toggleable__label sk-toggleable__label-arrow\">pipeline-2</label><div class=\"sk-toggleable__content\"><pre>[&#x27;located&#x27;, &#x27;Status&#x27;, &#x27;access&#x27;, &#x27;plan_type&#x27;]</pre></div></div></div><div class=\"sk-serial\"><div class=\"sk-item\"><div class=\"sk-serial\"><div class=\"sk-item\"><div class=\"sk-estimator sk-toggleable\"><input class=\"sk-toggleable__control sk-hidden--visually\" id=\"sk-estimator-id-25\" type=\"checkbox\" ><label for=\"sk-estimator-id-25\" class=\"sk-toggleable__label sk-toggleable__label-arrow\">OrdinalEncoder</label><div class=\"sk-toggleable__content\"><pre>OrdinalEncoder(categories=[[&#x27;remote area&#x27;, &#x27;other rural area&#x27;,\n",
       "                            &#x27;small rural centre&#x27;, &#x27;large rural centre&#x27;,\n",
       "                            &#x27;other metropolitan centre&#x27;, &#x27;metropolitan centre&#x27;,\n",
       "                            &#x27;capital city&#x27;],\n",
       "                           [&#x27;canceled&#x27;, &#x27;incomplete_expired&#x27;, &#x27;past_due&#x27;,\n",
       "                            &#x27;trialing&#x27;, &#x27;active&#x27;],\n",
       "                           [&#x27;never&#x27;, &#x27;sometimes&#x27;, &#x27;usually&#x27;, &#x27;always&#x27;],\n",
       "                           [&#x27;monthly&#x27;, &#x27;quarterly&#x27;, &#x27;annually&#x27;]],\n",
       "               encoded_missing_value=-1, handle_unknown=&#x27;use_encoded_value&#x27;,\n",
       "               unknown_value=-1)</pre></div></div></div><div class=\"sk-item\"><div class=\"sk-estimator sk-toggleable\"><input class=\"sk-toggleable__control sk-hidden--visually\" id=\"sk-estimator-id-26\" type=\"checkbox\" ><label for=\"sk-estimator-id-26\" class=\"sk-toggleable__label sk-toggleable__label-arrow\">RobustScaler</label><div class=\"sk-toggleable__content\"><pre>RobustScaler()</pre></div></div></div></div></div></div></div></div></div></div><div class=\"sk-item\"><div class=\"sk-estimator sk-toggleable\"><input class=\"sk-toggleable__control sk-hidden--visually\" id=\"sk-estimator-id-27\" type=\"checkbox\" ><label for=\"sk-estimator-id-27\" class=\"sk-toggleable__label sk-toggleable__label-arrow\">MiniBatchKMeans</label><div class=\"sk-toggleable__content\"><pre>MiniBatchKMeans(n_clusters=4)</pre></div></div></div></div></div></div></div>"
      ],
      "text/plain": [
       "Pipeline(steps=[('columntransformer',\n",
       "                 ColumnTransformer(transformers=[('pipeline-1',\n",
       "                                                  Pipeline(steps=[('simpleimputer',\n",
       "                                                                   SimpleImputer(strategy='median')),\n",
       "                                                                  ('robustscaler',\n",
       "                                                                   RobustScaler())]),\n",
       "                                                  Index(['num_subs', 'account_age', 'hasPracticeRecord', 'docPerYear',\n",
       "       'docOnAusmedPerYear', 'minPerYear', 'minOnAusmedPerYear',\n",
       "       'learnFromAusmedRatio_num', 'learnFromAusmedRat...\n",
       "                                                                                              ['canceled',\n",
       "                                                                                               'incomplete_expired',\n",
       "                                                                                               'past_due',\n",
       "                                                                                               'trialing',\n",
       "                                                                                               'active'],\n",
       "                                                                                              ['never',\n",
       "                                                                                               'sometimes',\n",
       "                                                                                               'usually',\n",
       "                                                                                               'always'],\n",
       "                                                                                              ['monthly',\n",
       "                                                                                               'quarterly',\n",
       "                                                                                               'annually']],\n",
       "                                                                                  encoded_missing_value=-1,\n",
       "                                                                                  handle_unknown='use_encoded_value',\n",
       "                                                                                  unknown_value=-1)),\n",
       "                                                                  ('robustscaler',\n",
       "                                                                   RobustScaler())]),\n",
       "                                                  ['located', 'Status',\n",
       "                                                   'access', 'plan_type'])])),\n",
       "                ('minibatchkmeans', MiniBatchKMeans(n_clusters=4))])"
      ]
     },
     "execution_count": 34,
     "metadata": {},
     "output_type": "execute_result"
    }
   ],
   "source": [
    "baseline"
   ]
  },
  {
   "cell_type": "code",
   "execution_count": 81,
   "id": "9cab5d53-35f2-4c48-ab3b-5a690222318e",
   "metadata": {},
   "outputs": [],
   "source": [
    "num_features = baseline[0].transformers[0][2]\n",
    "cat_features = baseline[0].transformers[1][2]"
   ]
  },
  {
   "cell_type": "markdown",
   "id": "af455ff8-974a-4e3d-b34b-6597223ccfb7",
   "metadata": {},
   "source": [
    "### Loop for k mean calculation"
   ]
  },
  {
   "cell_type": "code",
   "execution_count": 100,
   "id": "33b6ae51-f3c4-43bc-9c50-608f93ac15cc",
   "metadata": {},
   "outputs": [
    {
     "name": "stderr",
     "output_type": "stream",
     "text": [
      "/var/folders/t8/6sllmnn55m57p9d8z7w2ssrh0000gn/T/ipykernel_76655/2871605007.py:2: SettingWithCopyWarning: \n",
      "A value is trying to be set on a copy of a slice from a DataFrame.\n",
      "Try using .loc[row_indexer,col_indexer] = value instead\n",
      "\n",
      "See the caveats in the documentation: https://pandas.pydata.org/pandas-docs/stable/user_guide/indexing.html#returning-a-view-versus-a-copy\n",
      "  num_features_df['col_labels'] = training_data_df_labels['col_labels']\n",
      "/var/folders/t8/6sllmnn55m57p9d8z7w2ssrh0000gn/T/ipykernel_76655/2871605007.py:5: SettingWithCopyWarning: \n",
      "A value is trying to be set on a copy of a slice from a DataFrame.\n",
      "Try using .loc[row_indexer,col_indexer] = value instead\n",
      "\n",
      "See the caveats in the documentation: https://pandas.pydata.org/pandas-docs/stable/user_guide/indexing.html#returning-a-view-versus-a-copy\n",
      "  cat_features_df['col_labels'] = training_data_df_labels['col_labels']\n"
     ]
    },
    {
     "data": {
      "text/plain": [
       "[['num_subs', 1.1],\n",
       " ['account_age', 1452.3],\n",
       " ['hasPracticeRecord', 0.9],\n",
       " ['docPerYear', 1.6],\n",
       " ['docOnAusmedPerYear', 0.9],\n",
       " ['minPerYear', 203.8],\n",
       " ['minOnAusmedPerYear', 33.7],\n",
       " ['learnFromAusmedRatio_num', 0.6],\n",
       " ['learnFromAusmedRatio_min', 0.5],\n",
       " ['numQueued', 17.1],\n",
       " ['numCompletedFromQueue', 0.4],\n",
       " ['minQueued', 781.7],\n",
       " ['minCompleted', 9.8],\n",
       " ['RatioOfCompletion_num', 0.0],\n",
       " ['RatioOfCompletion_min', 0.0],\n",
       " ['event_cpd_day_diff', 143.8],\n",
       " ['doc_in_activation', 3.3],\n",
       " ['activated', 0.7],\n",
       " ['subscribe_days', 605.7],\n",
       " ['GoalsPerYear', 2.0],\n",
       " ['ratioOfAchivedGoals', 0.0],\n",
       " ['located', 'metropolitan centre'],\n",
       " ['Status', 'active'],\n",
       " ['access', 'always'],\n",
       " ['plan_type', 'quarterly']]"
      ]
     },
     "execution_count": 100,
     "metadata": {},
     "output_type": "execute_result"
    }
   ],
   "source": [
    "num_features_df = training_data_df_labels[num_features]\n",
    "num_features_df['col_labels'] = training_data_df_labels['col_labels']\n",
    "\n",
    "cat_features_df = training_data_df_labels[cat_features]\n",
    "cat_features_df['col_labels'] = training_data_df_labels['col_labels']\n",
    "\n",
    "kmean_list = []\n",
    "\n",
    "for x in num_features:\n",
    "    kmean_list.append([x,round(num_features_df[x].mean(),1)])\n",
    "for y in cat_features:\n",
    "    kmean_list.append([y,cat_features_df[y].mode()[0]])   \n",
    "    \n",
    "kmean_list"
   ]
  },
  {
   "cell_type": "code",
   "execution_count": null,
   "id": "26067919-d6f1-43b5-b5e1-460ea3f3e6ae",
   "metadata": {},
   "outputs": [],
   "source": []
  },
  {
   "cell_type": "code",
   "execution_count": null,
   "id": "c3c47523-8764-4c39-9d3c-095a6a16295a",
   "metadata": {},
   "outputs": [],
   "source": []
  },
  {
   "cell_type": "code",
   "execution_count": null,
   "id": "5183e1ba-10d3-47ff-98f3-d717ff148620",
   "metadata": {},
   "outputs": [],
   "source": []
  }
 ],
 "metadata": {
  "kernelspec": {
   "display_name": "Python 3 (ipykernel)",
   "language": "python",
   "name": "python3"
  },
  "language_info": {
   "codemirror_mode": {
    "name": "ipython",
    "version": 3
   },
   "file_extension": ".py",
   "mimetype": "text/x-python",
   "name": "python",
   "nbconvert_exporter": "python",
   "pygments_lexer": "ipython3",
   "version": "3.8.13"
  }
 },
 "nbformat": 4,
 "nbformat_minor": 5
}
