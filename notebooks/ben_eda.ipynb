{
 "cells": [
  {
   "cell_type": "markdown",
   "id": "e8ebb54c-545b-4c2f-bcc7-e409718862dd",
   "metadata": {},
   "source": [
    "### Imports"
   ]
  },
  {
   "cell_type": "code",
   "execution_count": 22,
   "id": "229f5fc8-d735-40ee-a907-3f68f6350c3f",
   "metadata": {
    "tags": []
   },
   "outputs": [],
   "source": [
    "import os\n",
    "import pymysql\n",
    "import pandas as pd\n",
    "import seaborn as sns\n",
    "import matplotlib.pyplot as plt\n",
    "from dotenv import load_dotenv, find_dotenv"
   ]
  },
  {
   "cell_type": "markdown",
   "id": "998427a4-a9fd-438b-9295-8d4029f1a5db",
   "metadata": {},
   "source": [
    "### Conn"
   ]
  },
  {
   "cell_type": "code",
   "execution_count": 48,
   "id": "cc3621e5-317d-4272-95c1-b6aff5aecaab",
   "metadata": {},
   "outputs": [],
   "source": [
    "env_path = find_dotenv()\n",
    "load_dotenv(env_path)\n",
    "\n",
    "conn = pymysql.connect (\n",
    "    host = os.getenv('HOST'),\n",
    "    port = int(3306),\n",
    "    user = os.getenv('USER_DB'),\n",
    "    password = os.getenv('PASSWORD_DB'),\n",
    "    db = os.getenv('DB'),\n",
    "    charset = 'utf8mb4'\n",
    ")"
   ]
  },
  {
   "cell_type": "markdown",
   "id": "a968eae5-ef61-4ab9-8e0e-1c56f6f01777",
   "metadata": {
    "tags": []
   },
   "source": [
    "## Query 1: Ratio of users subscribed to account age"
   ]
  },
  {
   "cell_type": "code",
   "execution_count": 55,
   "id": "98aec424-cbfb-4899-98bc-583ab1b90ca7",
   "metadata": {},
   "outputs": [
    {
     "name": "stderr",
     "output_type": "stream",
     "text": [
      "/Users/benquartermaine/.pyenv/versions/3.8.12/envs/customerclustering/lib/python3.8/site-packages/pandas/io/sql.py:761: UserWarning: pandas only support SQLAlchemy connectable(engine/connection) ordatabase string URI or sqlite3 DBAPI2 connectionother DBAPI2 objects are not tested, please consider using SQLAlchemy\n",
      "  warnings.warn(\n"
     ]
    }
   ],
   "source": [
    "def get_ratio_subs_per_user(conn):\n",
    "    df = pd.read_sql_query(\n",
    "        \n",
    "        \"\"\"Returns number of times a users has had sub divided by account age, excludes users who have never had a sub\"\"\"\n",
    "        \"\"\"\n",
    "            SELECT \n",
    "                Product, \n",
    "                Status, \n",
    "                userID,\n",
    "                stripeCustID,\n",
    "                COUNT(*) AS num_subs,\n",
    "                DATEDIFF(NOW(), createDate) AS account_age\n",
    "            FROM stripe_subscription\n",
    "            JOIN user ON user.stripeCustID = stripe_subscription.`Customer ID`\n",
    "            GROUP BY `Customer ID` \n",
    "            ORDER BY COUNT(*) DESC\n",
    "        \"\"\", conn)\n",
    "    \n",
    "    return df\n",
    "\n",
    "df_subs_per_user = get_ratio_subs_per_user(conn)"
   ]
  },
  {
   "cell_type": "code",
   "execution_count": 56,
   "id": "d4732b29-742a-4530-b6bf-efcca3b63a0e",
   "metadata": {},
   "outputs": [
    {
     "data": {
      "text/html": [
       "<div>\n",
       "<style scoped>\n",
       "    .dataframe tbody tr th:only-of-type {\n",
       "        vertical-align: middle;\n",
       "    }\n",
       "\n",
       "    .dataframe tbody tr th {\n",
       "        vertical-align: top;\n",
       "    }\n",
       "\n",
       "    .dataframe thead th {\n",
       "        text-align: right;\n",
       "    }\n",
       "</style>\n",
       "<table border=\"1\" class=\"dataframe\">\n",
       "  <thead>\n",
       "    <tr style=\"text-align: right;\">\n",
       "      <th></th>\n",
       "      <th>Product</th>\n",
       "      <th>Status</th>\n",
       "      <th>userID</th>\n",
       "      <th>stripeCustID</th>\n",
       "      <th>num_subs</th>\n",
       "      <th>account_age</th>\n",
       "    </tr>\n",
       "  </thead>\n",
       "  <tbody>\n",
       "    <tr>\n",
       "      <th>0</th>\n",
       "      <td>Ausmed Subscription</td>\n",
       "      <td>incomplete_expired</td>\n",
       "      <td>b844dd04-799b-4d74-aa89-e3d91e6b135b</td>\n",
       "      <td>cus_CwbLsaFBPovaL4</td>\n",
       "      <td>14</td>\n",
       "      <td>1535.0</td>\n",
       "    </tr>\n",
       "    <tr>\n",
       "      <th>1</th>\n",
       "      <td>Ausmed Subscription</td>\n",
       "      <td>incomplete_expired</td>\n",
       "      <td>6037d38d-d098-4f68-be8c-49b7131b8116</td>\n",
       "      <td>cus_CVloz8uJiXpqfF</td>\n",
       "      <td>10</td>\n",
       "      <td>1606.0</td>\n",
       "    </tr>\n",
       "    <tr>\n",
       "      <th>2</th>\n",
       "      <td>Ausmed Subscription</td>\n",
       "      <td>canceled</td>\n",
       "      <td>62d1fe96-34f6-4992-9f15-b240f07770d8</td>\n",
       "      <td>cus_EoCO9ITZcMHmkA</td>\n",
       "      <td>9</td>\n",
       "      <td>1226.0</td>\n",
       "    </tr>\n",
       "    <tr>\n",
       "      <th>3</th>\n",
       "      <td>Ausmed Subscription</td>\n",
       "      <td>incomplete_expired</td>\n",
       "      <td>d83f7491-9780-4568-a1c1-fd4c82434a06</td>\n",
       "      <td>cus_JIgpIXgpkkotwL</td>\n",
       "      <td>8</td>\n",
       "      <td>482.0</td>\n",
       "    </tr>\n",
       "    <tr>\n",
       "      <th>4</th>\n",
       "      <td>Ausmed Subscription</td>\n",
       "      <td>incomplete_expired</td>\n",
       "      <td>cfe4c603-9844-4549-9e37-37786e45a762</td>\n",
       "      <td>cus_Cvl36O6MtngQRg</td>\n",
       "      <td>7</td>\n",
       "      <td>1537.0</td>\n",
       "    </tr>\n",
       "    <tr>\n",
       "      <th>...</th>\n",
       "      <td>...</td>\n",
       "      <td>...</td>\n",
       "      <td>...</td>\n",
       "      <td>...</td>\n",
       "      <td>...</td>\n",
       "      <td>...</td>\n",
       "    </tr>\n",
       "    <tr>\n",
       "      <th>29111</th>\n",
       "      <td>Ausmed Subscription</td>\n",
       "      <td>active</td>\n",
       "      <td>fff5b6ec-0f17-4c0f-acdb-caf5a54d440c</td>\n",
       "      <td>cus_AlI7ExGfEYx9BI</td>\n",
       "      <td>1</td>\n",
       "      <td>1975.0</td>\n",
       "    </tr>\n",
       "    <tr>\n",
       "      <th>29112</th>\n",
       "      <td>Ausmed Subscription</td>\n",
       "      <td>active</td>\n",
       "      <td>fff61169-6743-4b75-b100-3603d1c02082</td>\n",
       "      <td>cus_HBQubDAIn90yiH</td>\n",
       "      <td>1</td>\n",
       "      <td>833.0</td>\n",
       "    </tr>\n",
       "    <tr>\n",
       "      <th>29113</th>\n",
       "      <td>Ausmed Subscription</td>\n",
       "      <td>active</td>\n",
       "      <td>fff6edf1-916e-496e-b811-ec8a60b4dc3f</td>\n",
       "      <td>cus_Htf9RoTV17oNz6</td>\n",
       "      <td>1</td>\n",
       "      <td>715.0</td>\n",
       "    </tr>\n",
       "    <tr>\n",
       "      <th>29114</th>\n",
       "      <td>Ausmed Subscription</td>\n",
       "      <td>canceled</td>\n",
       "      <td>fff8d7d8-d0a5-4fb1-9e1f-a6063f16c28d</td>\n",
       "      <td>cus_IjezQrGVvBmqui</td>\n",
       "      <td>1</td>\n",
       "      <td>576.0</td>\n",
       "    </tr>\n",
       "    <tr>\n",
       "      <th>29115</th>\n",
       "      <td>Ausmed Subscription</td>\n",
       "      <td>canceled</td>\n",
       "      <td>fffb9d57-e570-4da5-8934-428287a23b11</td>\n",
       "      <td>cus_ETbP5NOOxl7Nh9</td>\n",
       "      <td>1</td>\n",
       "      <td>1281.0</td>\n",
       "    </tr>\n",
       "  </tbody>\n",
       "</table>\n",
       "<p>29116 rows × 6 columns</p>\n",
       "</div>"
      ],
      "text/plain": [
       "                   Product              Status  \\\n",
       "0      Ausmed Subscription  incomplete_expired   \n",
       "1      Ausmed Subscription  incomplete_expired   \n",
       "2      Ausmed Subscription            canceled   \n",
       "3      Ausmed Subscription  incomplete_expired   \n",
       "4      Ausmed Subscription  incomplete_expired   \n",
       "...                    ...                 ...   \n",
       "29111  Ausmed Subscription              active   \n",
       "29112  Ausmed Subscription              active   \n",
       "29113  Ausmed Subscription              active   \n",
       "29114  Ausmed Subscription            canceled   \n",
       "29115  Ausmed Subscription            canceled   \n",
       "\n",
       "                                     userID        stripeCustID  num_subs  \\\n",
       "0      b844dd04-799b-4d74-aa89-e3d91e6b135b  cus_CwbLsaFBPovaL4        14   \n",
       "1      6037d38d-d098-4f68-be8c-49b7131b8116  cus_CVloz8uJiXpqfF        10   \n",
       "2      62d1fe96-34f6-4992-9f15-b240f07770d8  cus_EoCO9ITZcMHmkA         9   \n",
       "3      d83f7491-9780-4568-a1c1-fd4c82434a06  cus_JIgpIXgpkkotwL         8   \n",
       "4      cfe4c603-9844-4549-9e37-37786e45a762  cus_Cvl36O6MtngQRg         7   \n",
       "...                                     ...                 ...       ...   \n",
       "29111  fff5b6ec-0f17-4c0f-acdb-caf5a54d440c  cus_AlI7ExGfEYx9BI         1   \n",
       "29112  fff61169-6743-4b75-b100-3603d1c02082  cus_HBQubDAIn90yiH         1   \n",
       "29113  fff6edf1-916e-496e-b811-ec8a60b4dc3f  cus_Htf9RoTV17oNz6         1   \n",
       "29114  fff8d7d8-d0a5-4fb1-9e1f-a6063f16c28d  cus_IjezQrGVvBmqui         1   \n",
       "29115  fffb9d57-e570-4da5-8934-428287a23b11  cus_ETbP5NOOxl7Nh9         1   \n",
       "\n",
       "       account_age  \n",
       "0           1535.0  \n",
       "1           1606.0  \n",
       "2           1226.0  \n",
       "3            482.0  \n",
       "4           1537.0  \n",
       "...            ...  \n",
       "29111       1975.0  \n",
       "29112        833.0  \n",
       "29113        715.0  \n",
       "29114        576.0  \n",
       "29115       1281.0  \n",
       "\n",
       "[29116 rows x 6 columns]"
      ]
     },
     "execution_count": 56,
     "metadata": {},
     "output_type": "execute_result"
    }
   ],
   "source": [
    "df_subs_per_user"
   ]
  },
  {
   "cell_type": "code",
   "execution_count": 57,
   "id": "0c2bef73-8b4b-4c10-bf2e-bee0eb16d15c",
   "metadata": {},
   "outputs": [],
   "source": [
    "df_subs_per_user['subs_to_age_ratio'] = round(df_subs_per_user[\"account_age\"] / df_subs_per_user[\"num_subs\"],0)"
   ]
  },
  {
   "cell_type": "code",
   "execution_count": 58,
   "id": "4f125436-1a8d-474a-a2e8-48b8c67aaa97",
   "metadata": {},
   "outputs": [
    {
     "data": {
      "text/plain": [
       "[Text(0.5, 1.0, 'Ratio of times a subscriber subscribed divided by their account age in days')]"
      ]
     },
     "execution_count": 58,
     "metadata": {},
     "output_type": "execute_result"
    },
    {
     "data": {
      "image/png": "[encoded data removed]",
      "text/plain": [
       "<Figure size 720x504 with 1 Axes>"
      ]
     },
     "metadata": {
      "needs_background": "light"
     },
     "output_type": "display_data"
    }
   ],
   "source": [
    "plt.figure(figsize=(10, 7))\n",
    "sns.histplot(df_subs_per_user['subs_to_age_ratio']).set(title = \"Ratio of times a subscriber subscribed divided by their account age in days\")\n"
   ]
  },
  {
   "cell_type": "markdown",
   "id": "6c234340-b66f-4f44-be0e-203cc0962328",
   "metadata": {},
   "source": [
    "## Query 2: Minutes documented per user (total)"
   ]
  },
  {
   "cell_type": "code",
   "execution_count": 60,
   "id": "e1de8bf3-842f-4461-ba48-594c89f14ac7",
   "metadata": {},
   "outputs": [
    {
     "name": "stderr",
     "output_type": "stream",
     "text": [
      "/Users/benquartermaine/.pyenv/versions/3.8.12/envs/customerclustering/lib/python3.8/site-packages/pandas/io/sql.py:761: UserWarning: pandas only support SQLAlchemy connectable(engine/connection) ordatabase string URI or sqlite3 DBAPI2 connectionother DBAPI2 objects are not tested, please consider using SQLAlchemy\n",
      "  warnings.warn(\n"
     ]
    }
   ],
   "source": [
    "def get_total_mins_doc(conn):\n",
    "    df_doc = pd.read_sql_query(\n",
    "        \"\"\"\n",
    "        SELECT\n",
    "            owner,\n",
    "            SUM(min) AS total_mins_doc,\n",
    "            COUNT(*) AS total_docs\n",
    "        FROM activity_20220808\n",
    "        GROUP BY owner\n",
    "        \"\"\", conn)\n",
    "    \n",
    "    df_doc['mins_per_documentation'] = round(df_doc['total_mins'] / df_doc['total_docs'], 0)\n",
    "    \n",
    "    return df_doc\n",
    "\n",
    "df_doc = get_total_mins_doc(conn)"
   ]
  },
  {
   "cell_type": "code",
   "execution_count": 64,
   "id": "bc09d75e-1165-42a0-9d2d-398f7929204e",
   "metadata": {},
   "outputs": [],
   "source": [
    "df_doc['mins_per_documentation'] = round(df_doc['total_mins'] / df_doc['total_docs'], 0)"
   ]
  },
  {
   "cell_type": "code",
   "execution_count": 65,
   "id": "52dff5a3-aaab-4759-b76c-0190cb36edcf",
   "metadata": {},
   "outputs": [
    {
     "data": {
      "text/html": [
       "<div>\n",
       "<style scoped>\n",
       "    .dataframe tbody tr th:only-of-type {\n",
       "        vertical-align: middle;\n",
       "    }\n",
       "\n",
       "    .dataframe tbody tr th {\n",
       "        vertical-align: top;\n",
       "    }\n",
       "\n",
       "    .dataframe thead th {\n",
       "        text-align: right;\n",
       "    }\n",
       "</style>\n",
       "<table border=\"1\" class=\"dataframe\">\n",
       "  <thead>\n",
       "    <tr style=\"text-align: right;\">\n",
       "      <th></th>\n",
       "      <th>owner</th>\n",
       "      <th>total_mins</th>\n",
       "      <th>total_docs</th>\n",
       "      <th>mins_per_documentation</th>\n",
       "    </tr>\n",
       "  </thead>\n",
       "  <tbody>\n",
       "    <tr>\n",
       "      <th>0</th>\n",
       "      <td>00001d9c-5de5-4ed2-9ecc-98341286765a</td>\n",
       "      <td>110.0</td>\n",
       "      <td>7</td>\n",
       "      <td>16.0</td>\n",
       "    </tr>\n",
       "    <tr>\n",
       "      <th>1</th>\n",
       "      <td>00001fb9-98c7-4dd4-b922-40a4094cd0d8</td>\n",
       "      <td>611.0</td>\n",
       "      <td>8</td>\n",
       "      <td>76.0</td>\n",
       "    </tr>\n",
       "    <tr>\n",
       "      <th>2</th>\n",
       "      <td>0000c854-c7a3-4047-9a54-2e1a3464621f</td>\n",
       "      <td>235.0</td>\n",
       "      <td>17</td>\n",
       "      <td>14.0</td>\n",
       "    </tr>\n",
       "    <tr>\n",
       "      <th>3</th>\n",
       "      <td>00013cfc-f97f-428d-bf6b-558601512bd7</td>\n",
       "      <td>5760.0</td>\n",
       "      <td>16</td>\n",
       "      <td>360.0</td>\n",
       "    </tr>\n",
       "    <tr>\n",
       "      <th>4</th>\n",
       "      <td>000161bd-3737-49f4-9733-b1fd7577647c</td>\n",
       "      <td>720.0</td>\n",
       "      <td>1</td>\n",
       "      <td>720.0</td>\n",
       "    </tr>\n",
       "    <tr>\n",
       "      <th>...</th>\n",
       "      <td>...</td>\n",
       "      <td>...</td>\n",
       "      <td>...</td>\n",
       "      <td>...</td>\n",
       "    </tr>\n",
       "    <tr>\n",
       "      <th>254122</th>\n",
       "      <td>ffff1bc4-d54f-4c43-926c-0146f22dd26f</td>\n",
       "      <td>2164.0</td>\n",
       "      <td>13</td>\n",
       "      <td>166.0</td>\n",
       "    </tr>\n",
       "    <tr>\n",
       "      <th>254123</th>\n",
       "      <td>ffff531f-a530-49e8-8667-88490d19845b</td>\n",
       "      <td>120.0</td>\n",
       "      <td>1</td>\n",
       "      <td>120.0</td>\n",
       "    </tr>\n",
       "    <tr>\n",
       "      <th>254124</th>\n",
       "      <td>ffff5a90-d347-47d3-ac12-3bec59c19512</td>\n",
       "      <td>280.0</td>\n",
       "      <td>7</td>\n",
       "      <td>40.0</td>\n",
       "    </tr>\n",
       "    <tr>\n",
       "      <th>254125</th>\n",
       "      <td>ffffca0f-a10f-466e-8179-f91c11035d15</td>\n",
       "      <td>105.0</td>\n",
       "      <td>2</td>\n",
       "      <td>52.0</td>\n",
       "    </tr>\n",
       "    <tr>\n",
       "      <th>254126</th>\n",
       "      <td>ffffffff-ffff-ffff-ffff-ffffffffffff</td>\n",
       "      <td>120.0</td>\n",
       "      <td>3</td>\n",
       "      <td>40.0</td>\n",
       "    </tr>\n",
       "  </tbody>\n",
       "</table>\n",
       "<p>254127 rows × 4 columns</p>\n",
       "</div>"
      ],
      "text/plain": [
       "                                       owner  total_mins  total_docs  \\\n",
       "0       00001d9c-5de5-4ed2-9ecc-98341286765a       110.0           7   \n",
       "1       00001fb9-98c7-4dd4-b922-40a4094cd0d8       611.0           8   \n",
       "2       0000c854-c7a3-4047-9a54-2e1a3464621f       235.0          17   \n",
       "3       00013cfc-f97f-428d-bf6b-558601512bd7      5760.0          16   \n",
       "4       000161bd-3737-49f4-9733-b1fd7577647c       720.0           1   \n",
       "...                                      ...         ...         ...   \n",
       "254122  ffff1bc4-d54f-4c43-926c-0146f22dd26f      2164.0          13   \n",
       "254123  ffff531f-a530-49e8-8667-88490d19845b       120.0           1   \n",
       "254124  ffff5a90-d347-47d3-ac12-3bec59c19512       280.0           7   \n",
       "254125  ffffca0f-a10f-466e-8179-f91c11035d15       105.0           2   \n",
       "254126  ffffffff-ffff-ffff-ffff-ffffffffffff       120.0           3   \n",
       "\n",
       "        mins_per_documentation  \n",
       "0                         16.0  \n",
       "1                         76.0  \n",
       "2                         14.0  \n",
       "3                        360.0  \n",
       "4                        720.0  \n",
       "...                        ...  \n",
       "254122                   166.0  \n",
       "254123                   120.0  \n",
       "254124                    40.0  \n",
       "254125                    52.0  \n",
       "254126                    40.0  \n",
       "\n",
       "[254127 rows x 4 columns]"
      ]
     },
     "execution_count": 65,
     "metadata": {},
     "output_type": "execute_result"
    }
   ],
   "source": [
    "df_doc"
   ]
  },
  {
   "cell_type": "code",
   "execution_count": null,
   "id": "a58d56e6-2ea0-4aad-b4a3-99b0f2ccd08c",
   "metadata": {},
   "outputs": [],
   "source": []
  }
 ],
 "metadata": {
  "kernelspec": {
   "display_name": "Python 3 (ipykernel)",
   "language": "python",
   "name": "python3"
  },
  "language_info": {
   "codemirror_mode": {
    "name": "ipython",
    "version": 3
   },
   "file_extension": ".py",
   "mimetype": "text/x-python",
   "name": "python",
   "nbconvert_exporter": "python",
   "pygments_lexer": "ipython3",
   "version": "3.8.12"
  }
 },
 "nbformat": 4,
 "nbformat_minor": 5
}
