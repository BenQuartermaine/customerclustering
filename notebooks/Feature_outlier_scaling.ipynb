{
 "cells": [
  {
   "cell_type": "code",
   "execution_count": 1,
   "id": "e0ba1ca6-9048-4128-8bbb-94d36e9c46ff",
   "metadata": {},
   "outputs": [],
   "source": [
    "import os\n",
    "import pymysql\n",
    "import pandas as pd\n",
    "import numpy as np\n",
    "from dotenv import load_dotenv, find_dotenv"
   ]
  },
  {
   "cell_type": "code",
   "execution_count": 2,
   "id": "a1ed2bc4-19f1-4e08-8da2-5aad2caa7515",
   "metadata": {},
   "outputs": [],
   "source": [
    "from customerclustering.db_connection import Db\n",
    "from customerclustering.get_training_data import *"
   ]
  },
  {
   "cell_type": "code",
   "execution_count": 44,
   "id": "f02e69ae-9d60-4704-9543-ab60be753564",
   "metadata": {},
   "outputs": [],
   "source": [
    "# df0=GetTrainingData(conn=Db.db_conn(),rows=20).get_training_data()\n",
    "\n",
    "# access to the data\n",
    "# conn = pymysql.connect(\n",
    "#     host=os.getenv('HOST'),\n",
    "#     port=int(3306),\n",
    "#     user=os.getenv('USER_DB'),\n",
    "#     passwd=os.getenv('PASSWORD_DB'),\n",
    "#     db=os.getenv('DB'),\n",
    "#     charset='utf8mb4')\n",
    "\n",
    "# rows=20000\n",
    "# df=GetTrainingData(conn,rows).get_training_data()\n",
    "# df_copy=df\n",
    "# df.head()"
   ]
  },
  {
   "cell_type": "code",
   "execution_count": 45,
   "id": "bdb8670f-22c3-48e9-a385-eda9dacb276f",
   "metadata": {},
   "outputs": [],
   "source": [
    "training_data = pd.read_csv(\"../raw_data/training_data.csv\")"
   ]
  },
  {
   "cell_type": "markdown",
   "id": "bab9ab38-58d1-41e1-8a88-08ce156172aa",
   "metadata": {},
   "source": [
    "# Categorical Features"
   ]
  },
  {
   "cell_type": "code",
   "execution_count": 82,
   "id": "af3bf6c1-d74c-4c48-84a8-95cc8f0e22e5",
   "metadata": {},
   "outputs": [
    {
     "data": {
      "text/html": [
       "<div>\n",
       "<style scoped>\n",
       "    .dataframe tbody tr th:only-of-type {\n",
       "        vertical-align: middle;\n",
       "    }\n",
       "\n",
       "    .dataframe tbody tr th {\n",
       "        vertical-align: top;\n",
       "    }\n",
       "\n",
       "    .dataframe thead th {\n",
       "        text-align: right;\n",
       "    }\n",
       "</style>\n",
       "<table border=\"1\" class=\"dataframe\">\n",
       "  <thead>\n",
       "    <tr style=\"text-align: right;\">\n",
       "      <th></th>\n",
       "      <th>#</th>\n",
       "      <th>Column</th>\n",
       "      <th>Non-Null Count</th>\n",
       "      <th>Dtype</th>\n",
       "    </tr>\n",
       "  </thead>\n",
       "  <tbody>\n",
       "    <tr>\n",
       "      <th>0</th>\n",
       "      <td>1</td>\n",
       "      <td>Product</td>\n",
       "      <td>6129</td>\n",
       "      <td>object</td>\n",
       "    </tr>\n",
       "    <tr>\n",
       "      <th>1</th>\n",
       "      <td>2</td>\n",
       "      <td>Status</td>\n",
       "      <td>6129</td>\n",
       "      <td>object</td>\n",
       "    </tr>\n",
       "    <tr>\n",
       "      <th>2</th>\n",
       "      <td>3</td>\n",
       "      <td>userID</td>\n",
       "      <td>6129</td>\n",
       "      <td>object</td>\n",
       "    </tr>\n",
       "    <tr>\n",
       "      <th>3</th>\n",
       "      <td>4</td>\n",
       "      <td>stripeCustID</td>\n",
       "      <td>6129</td>\n",
       "      <td>object</td>\n",
       "    </tr>\n",
       "    <tr>\n",
       "      <th>4</th>\n",
       "      <td>5</td>\n",
       "      <td>num_subs</td>\n",
       "      <td>6129</td>\n",
       "      <td>int64</td>\n",
       "    </tr>\n",
       "  </tbody>\n",
       "</table>\n",
       "</div>"
      ],
      "text/plain": [
       "   #        Column Non-Null Count   Dtype\n",
       "0  1       Product           6129  object\n",
       "1  2        Status           6129  object\n",
       "2  3        userID           6129  object\n",
       "3  4  stripeCustID           6129  object\n",
       "4  5      num_subs           6129   int64"
      ]
     },
     "execution_count": 82,
     "metadata": {},
     "output_type": "execute_result"
    }
   ],
   "source": [
    "import io\n",
    "buffer = io.StringIO()\n",
    "training_data.info(buf=buffer)\n",
    "lines = buffer.getvalue().splitlines()\n",
    "column_df = (pd.DataFrame([x.split() for x in lines[6:-2]], columns=lines[3].split())\n",
    "       .drop('Count',axis=1)\n",
    "       .rename(columns={'Non-Null':'Non-Null Count'}))\n",
    "column_df.head()"
   ]
  },
  {
   "cell_type": "code",
   "execution_count": 87,
   "id": "1d03953b-02db-42b1-ac64-df9a3163b7e1",
   "metadata": {},
   "outputs": [
    {
     "data": {
      "text/html": [
       "<div>\n",
       "<style scoped>\n",
       "    .dataframe tbody tr th:only-of-type {\n",
       "        vertical-align: middle;\n",
       "    }\n",
       "\n",
       "    .dataframe tbody tr th {\n",
       "        vertical-align: top;\n",
       "    }\n",
       "\n",
       "    .dataframe thead th {\n",
       "        text-align: right;\n",
       "    }\n",
       "</style>\n",
       "<table border=\"1\" class=\"dataframe\">\n",
       "  <thead>\n",
       "    <tr style=\"text-align: right;\">\n",
       "      <th></th>\n",
       "      <th>column_name</th>\n",
       "      <th>unique_count</th>\n",
       "    </tr>\n",
       "  </thead>\n",
       "  <tbody>\n",
       "    <tr>\n",
       "      <th>8</th>\n",
       "      <td>autonomy</td>\n",
       "      <td>3</td>\n",
       "    </tr>\n",
       "    <tr>\n",
       "      <th>13</th>\n",
       "      <td>plan_type</td>\n",
       "      <td>3</td>\n",
       "    </tr>\n",
       "    <tr>\n",
       "      <th>9</th>\n",
       "      <td>access</td>\n",
       "      <td>4</td>\n",
       "    </tr>\n",
       "    <tr>\n",
       "      <th>1</th>\n",
       "      <td>Status</td>\n",
       "      <td>5</td>\n",
       "    </tr>\n",
       "    <tr>\n",
       "      <th>3</th>\n",
       "      <td>located</td>\n",
       "      <td>5</td>\n",
       "    </tr>\n",
       "    <tr>\n",
       "      <th>10</th>\n",
       "      <td>country</td>\n",
       "      <td>5</td>\n",
       "    </tr>\n",
       "    <tr>\n",
       "      <th>0</th>\n",
       "      <td>Product</td>\n",
       "      <td>6</td>\n",
       "    </tr>\n",
       "    <tr>\n",
       "      <th>7</th>\n",
       "      <td>complex</td>\n",
       "      <td>7</td>\n",
       "    </tr>\n",
       "    <tr>\n",
       "      <th>11</th>\n",
       "      <td>favActivityType</td>\n",
       "      <td>12</td>\n",
       "    </tr>\n",
       "    <tr>\n",
       "      <th>12</th>\n",
       "      <td>2ndFavActivityType</td>\n",
       "      <td>13</td>\n",
       "    </tr>\n",
       "    <tr>\n",
       "      <th>6</th>\n",
       "      <td>focus</td>\n",
       "      <td>419</td>\n",
       "    </tr>\n",
       "    <tr>\n",
       "      <th>5</th>\n",
       "      <td>population</td>\n",
       "      <td>438</td>\n",
       "    </tr>\n",
       "    <tr>\n",
       "      <th>2</th>\n",
       "      <td>typeOfPractice</td>\n",
       "      <td>442</td>\n",
       "    </tr>\n",
       "    <tr>\n",
       "      <th>4</th>\n",
       "      <td>specialities</td>\n",
       "      <td>3333</td>\n",
       "    </tr>\n",
       "    <tr>\n",
       "      <th>14</th>\n",
       "      <td>metaGoalTitle</td>\n",
       "      <td>6046</td>\n",
       "    </tr>\n",
       "  </tbody>\n",
       "</table>\n",
       "</div>"
      ],
      "text/plain": [
       "           column_name  unique_count\n",
       "8             autonomy             3\n",
       "13           plan_type             3\n",
       "9               access             4\n",
       "1               Status             5\n",
       "3              located             5\n",
       "10             country             5\n",
       "0              Product             6\n",
       "7              complex             7\n",
       "11     favActivityType            12\n",
       "12  2ndFavActivityType            13\n",
       "6                focus           419\n",
       "5           population           438\n",
       "2       typeOfPractice           442\n",
       "4         specialities          3333\n",
       "14       metaGoalTitle          6046"
      ]
     },
     "execution_count": 87,
     "metadata": {},
     "output_type": "execute_result"
    }
   ],
   "source": [
    "#categorical data only\n",
    "\n",
    "cat_columns = column_df[column_df['Dtype']=='object'].reset_index().Column\n",
    "\n",
    "cat_columns_df = training_data[cat_columns].drop(columns =['userID','stripeCustID','pProfileID',\\\n",
    "                                                           'startDate','endDate','createDate'])\n",
    "unique_value_list = []\n",
    "for x in range(0, len(cat_columns_df.columns)):\n",
    "    y = cat_columns_df[cat_columns_df.columns[x]].nunique()\n",
    "    unique_value_list.append([cat_columns_df.columns[x], y])\n",
    "    \n",
    "unique_value_df = pd.DataFrame(unique_value_list, columns = ['column_name','unique_count'])\n",
    "unique_value_df.sort_values(by ='unique_count')"
   ]
  },
  {
   "cell_type": "code",
   "execution_count": 106,
   "id": "cb9c611f-53a4-43aa-b861-ddaffa9da76a",
   "metadata": {},
   "outputs": [],
   "source": [
    "#Ordinal Encoding\n",
    "#autonomy;\n",
    "#plan_type;\n",
    "#access\n",
    "#Status: clean to 0 and 1, active and inactive;\n",
    "#complex: 0-3; further cleaning required to get the consistent wording;\n"
   ]
  },
  {
   "cell_type": "code",
   "execution_count": 107,
   "id": "0c6c32f1-d517-4db4-87cf-9c3ed7d6b4f8",
   "metadata": {},
   "outputs": [],
   "source": [
    "#OneHotEncoder\n",
    "#located: clean and condense to rural and city only;\n",
    "#favActivityType: reduced to 5 and other;\n",
    "#2ndFavActivityType: reduced to 5 and other;\n"
   ]
  },
  {
   "cell_type": "code",
   "execution_count": 108,
   "id": "b024d321-c1ae-43c4-bd65-609eae1e7397",
   "metadata": {},
   "outputs": [],
   "source": [
    "#feature to remove\n",
    "#country: 6123 out of 6129 are from AUS;\n",
    "#Product: unsure 5,772 Ausmed subscriptons vs 351 loyalty subscription; futher cleaning needed;\n"
   ]
  },
  {
   "cell_type": "markdown",
   "id": "89e9da02-34df-4578-87cb-dc708cfee7eb",
   "metadata": {},
   "source": [
    "## feature reviewing"
   ]
  },
  {
   "cell_type": "code",
   "execution_count": 88,
   "id": "7facc55c-0d14-43a0-90cb-1fef83b5e4bd",
   "metadata": {
    "collapsed": true,
    "jupyter": {
     "outputs_hidden": true
    },
    "tags": []
   },
   "outputs": [
    {
     "data": {
      "text/plain": [
       "moderate    3848\n",
       "high        1632\n",
       "minimal      649\n",
       "Name: autonomy, dtype: int64"
      ]
     },
     "execution_count": 88,
     "metadata": {},
     "output_type": "execute_result"
    }
   ],
   "source": [
    "training_data['autonomy'].value_counts()"
   ]
  },
  {
   "cell_type": "code",
   "execution_count": 90,
   "id": "9f69d9b0-6748-467e-9915-d9d22e958760",
   "metadata": {
    "tags": []
   },
   "outputs": [
    {
     "data": {
      "text/plain": [
       "quarterly    4458\n",
       "monthly      1012\n",
       "annually      659\n",
       "Name: plan_type, dtype: int64"
      ]
     },
     "execution_count": 90,
     "metadata": {},
     "output_type": "execute_result"
    }
   ],
   "source": [
    "training_data['plan_type'].value_counts()"
   ]
  },
  {
   "cell_type": "code",
   "execution_count": 92,
   "id": "cf986cd5-fb4a-45ad-b7b1-bba94e38d1d1",
   "metadata": {
    "tags": []
   },
   "outputs": [
    {
     "data": {
      "text/plain": [
       "always       3634\n",
       "usually      1928\n",
       "sometimes     536\n",
       "never          31\n",
       "Name: access, dtype: int64"
      ]
     },
     "execution_count": 92,
     "metadata": {},
     "output_type": "execute_result"
    }
   ],
   "source": [
    "training_data['access'].value_counts()"
   ]
  },
  {
   "cell_type": "code",
   "execution_count": 93,
   "id": "ef845c26-622c-4bc7-8366-1b75a02d75d1",
   "metadata": {
    "tags": []
   },
   "outputs": [
    {
     "data": {
      "text/plain": [
       "active                3280\n",
       "canceled              2713\n",
       "past_due               112\n",
       "incomplete_expired      21\n",
       "trialing                 3\n",
       "Name: Status, dtype: int64"
      ]
     },
     "execution_count": 93,
     "metadata": {},
     "output_type": "execute_result"
    }
   ],
   "source": [
    "training_data['Status'].value_counts()"
   ]
  },
  {
   "cell_type": "code",
   "execution_count": 94,
   "id": "47641f9e-4bb8-419c-b95d-5239b6704a03",
   "metadata": {
    "tags": []
   },
   "outputs": [
    {
     "data": {
      "text/plain": [
       "metropolitan centre    2586\n",
       "large rural centre     1350\n",
       "capital city           1118\n",
       "small rural centre      832\n",
       "remote area             243\n",
       "Name: located, dtype: int64"
      ]
     },
     "execution_count": 94,
     "metadata": {},
     "output_type": "execute_result"
    }
   ],
   "source": [
    "training_data['located'].value_counts()"
   ]
  },
  {
   "cell_type": "code",
   "execution_count": 95,
   "id": "b1e7a810-3e19-425b-bb83-27a237111f6d",
   "metadata": {
    "tags": []
   },
   "outputs": [
    {
     "data": {
      "text/plain": [
       "AUS    6123\n",
       "NZL       3\n",
       "ARE       1\n",
       "GBR       1\n",
       "ZAF       1\n",
       "Name: country, dtype: int64"
      ]
     },
     "execution_count": 95,
     "metadata": {},
     "output_type": "execute_result"
    }
   ],
   "source": [
    "training_data['country'].value_counts()"
   ]
  },
  {
   "cell_type": "code",
   "execution_count": 96,
   "id": "6ba0b8ef-4f0e-4244-adc6-c2856c389b1f",
   "metadata": {
    "tags": []
   },
   "outputs": [
    {
     "data": {
      "text/plain": [
       "Ausmed Subscription            5252\n",
       "Ausmed Subscription Monthly     520\n",
       "Loyalty Subscription            271\n",
       "Ausmed Loyalty Monthly           80\n",
       "Ausmed US Subscription            4\n",
       "Ausmed NZ Subscription            2\n",
       "Name: Product, dtype: int64"
      ]
     },
     "execution_count": 96,
     "metadata": {},
     "output_type": "execute_result"
    }
   ],
   "source": [
    "training_data['Product'].value_counts()"
   ]
  },
  {
   "cell_type": "code",
   "execution_count": 97,
   "id": "df698bd3-8a0b-48c1-901b-5c273da78f1b",
   "metadata": {
    "tags": []
   },
   "outputs": [
    {
     "data": {
      "text/plain": [
       "generally complex         3635\n",
       "very complex              1332\n",
       "high complexity            733\n",
       "low complexity             426\n",
       "have a high complexity       1\n",
       "be generally complex         1\n",
       "be very complex              1\n",
       "Name: complex, dtype: int64"
      ]
     },
     "execution_count": 97,
     "metadata": {},
     "output_type": "execute_result"
    }
   ],
   "source": [
    "training_data['complex'].value_counts()"
   ]
  },
  {
   "cell_type": "code",
   "execution_count": 101,
   "id": "e57fa982-8468-4323-a751-e03ba8de2817",
   "metadata": {},
   "outputs": [
    {
     "data": {
      "text/plain": [
       "e-Learning           3415\n",
       "Textbook             1360\n",
       "Competency            517\n",
       "In-Service            405\n",
       "Conference            138\n",
       "Other                 129\n",
       "Meeting                45\n",
       "Teaching               42\n",
       "Mentoring              39\n",
       "Postgraduate           21\n",
       "Procedure              15\n",
       "Peer Consultation       3\n",
       "Name: favActivityType, dtype: int64"
      ]
     },
     "execution_count": 101,
     "metadata": {},
     "output_type": "execute_result"
    }
   ],
   "source": [
    "training_data['favActivityType'].value_counts()"
   ]
  },
  {
   "cell_type": "code",
   "execution_count": 102,
   "id": "3b533cc3-5e90-44fe-a1c2-a1b737b73bd4",
   "metadata": {},
   "outputs": [
    {
     "data": {
      "text/plain": [
       "e-Learning           2609\n",
       "Textbook             1635\n",
       "Competency            628\n",
       "In-Service            552\n",
       "Other                 239\n",
       "Conference            222\n",
       "Teaching               76\n",
       "Meeting                62\n",
       "Mentoring              53\n",
       "Postgraduate           29\n",
       "Procedure              21\n",
       "Peer Consultation       2\n",
       "Research                1\n",
       "Name: 2ndFavActivityType, dtype: int64"
      ]
     },
     "execution_count": 102,
     "metadata": {},
     "output_type": "execute_result"
    }
   ],
   "source": [
    "training_data['2ndFavActivityType'].value_counts()"
   ]
  },
  {
   "cell_type": "code",
   "execution_count": null,
   "id": "80e2bacf-2fdc-4231-81d7-8c2fc8f3e2c1",
   "metadata": {},
   "outputs": [],
   "source": []
  }
 ],
 "metadata": {
  "kernelspec": {
   "display_name": "Python 3 (ipykernel)",
   "language": "python",
   "name": "python3"
  },
  "language_info": {
   "codemirror_mode": {
    "name": "ipython",
    "version": 3
   },
   "file_extension": ".py",
   "mimetype": "text/x-python",
   "name": "python",
   "nbconvert_exporter": "python",
   "pygments_lexer": "ipython3",
   "version": "3.8.13"
  }
 },
 "nbformat": 4,
 "nbformat_minor": 5
}
