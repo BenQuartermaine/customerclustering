{
 "cells": [
  {
   "cell_type": "code",
   "execution_count": 1,
   "id": "e0ba1ca6-9048-4128-8bbb-94d36e9c46ff",
   "metadata": {},
   "outputs": [],
   "source": [
    "import os\n",
    "import pymysql\n",
    "import pandas as pd\n",
    "import numpy as np\n",
    "from dotenv import load_dotenv, find_dotenv"
   ]
  },
  {
   "cell_type": "code",
   "execution_count": 2,
   "id": "a1ed2bc4-19f1-4e08-8da2-5aad2caa7515",
   "metadata": {},
   "outputs": [],
   "source": [
    "from customerclustering.db_connection import Db\n",
    "from customerclustering.get_training_data import *\n",
    "from customerclustering.baseline import *"
   ]
  },
  {
   "cell_type": "code",
   "execution_count": 3,
   "id": "f02e69ae-9d60-4704-9543-ab60be753564",
   "metadata": {},
   "outputs": [],
   "source": [
    "# df0=GetTrainingData(conn=Db.db_conn(),rows=20).get_training_data()\n",
    "\n",
    "# access to the data\n",
    "# conn = pymysql.connect(\n",
    "#     host=os.getenv('HOST'),\n",
    "#     port=int(3306),\n",
    "#     user=os.getenv('USER_DB'),\n",
    "#     passwd=os.getenv('PASSWORD_DB'),\n",
    "#     db=os.getenv('DB'),\n",
    "#     charset='utf8mb4')\n",
    "\n",
    "# rows=20000\n",
    "# df=GetTrainingData(conn,rows).get_training_data()\n",
    "# df_copy=df\n",
    "# df.head()"
   ]
  },
  {
   "cell_type": "code",
   "execution_count": 4,
   "id": "bdb8670f-22c3-48e9-a385-eda9dacb276f",
   "metadata": {},
   "outputs": [],
   "source": [
    "training_data = pd.read_csv(\"../raw_data/training_data_1.csv\")"
   ]
  },
  {
   "cell_type": "markdown",
   "id": "bab9ab38-58d1-41e1-8a88-08ce156172aa",
   "metadata": {},
   "source": [
    "# Categorical Features"
   ]
  },
  {
   "cell_type": "code",
   "execution_count": 5,
   "id": "af3bf6c1-d74c-4c48-84a8-95cc8f0e22e5",
   "metadata": {},
   "outputs": [
    {
     "data": {
      "text/html": [
       "<div>\n",
       "<style scoped>\n",
       "    .dataframe tbody tr th:only-of-type {\n",
       "        vertical-align: middle;\n",
       "    }\n",
       "\n",
       "    .dataframe tbody tr th {\n",
       "        vertical-align: top;\n",
       "    }\n",
       "\n",
       "    .dataframe thead th {\n",
       "        text-align: right;\n",
       "    }\n",
       "</style>\n",
       "<table border=\"1\" class=\"dataframe\">\n",
       "  <thead>\n",
       "    <tr style=\"text-align: right;\">\n",
       "      <th></th>\n",
       "      <th>#</th>\n",
       "      <th>Column</th>\n",
       "      <th>Non-Null Count</th>\n",
       "      <th>Dtype</th>\n",
       "    </tr>\n",
       "  </thead>\n",
       "  <tbody>\n",
       "    <tr>\n",
       "      <th>0</th>\n",
       "      <td>1</td>\n",
       "      <td>Product</td>\n",
       "      <td>7482</td>\n",
       "      <td>object</td>\n",
       "    </tr>\n",
       "    <tr>\n",
       "      <th>1</th>\n",
       "      <td>2</td>\n",
       "      <td>Status</td>\n",
       "      <td>7482</td>\n",
       "      <td>object</td>\n",
       "    </tr>\n",
       "    <tr>\n",
       "      <th>2</th>\n",
       "      <td>3</td>\n",
       "      <td>userID</td>\n",
       "      <td>7482</td>\n",
       "      <td>object</td>\n",
       "    </tr>\n",
       "    <tr>\n",
       "      <th>3</th>\n",
       "      <td>4</td>\n",
       "      <td>stripeCustID</td>\n",
       "      <td>7482</td>\n",
       "      <td>object</td>\n",
       "    </tr>\n",
       "    <tr>\n",
       "      <th>4</th>\n",
       "      <td>5</td>\n",
       "      <td>num_subs</td>\n",
       "      <td>7482</td>\n",
       "      <td>int64</td>\n",
       "    </tr>\n",
       "  </tbody>\n",
       "</table>\n",
       "</div>"
      ],
      "text/plain": [
       "   #        Column Non-Null Count   Dtype\n",
       "0  1       Product           7482  object\n",
       "1  2        Status           7482  object\n",
       "2  3        userID           7482  object\n",
       "3  4  stripeCustID           7482  object\n",
       "4  5      num_subs           7482   int64"
      ]
     },
     "execution_count": 5,
     "metadata": {},
     "output_type": "execute_result"
    }
   ],
   "source": [
    "import io\n",
    "buffer = io.StringIO()\n",
    "training_data.info(buf=buffer)\n",
    "lines = buffer.getvalue().splitlines()\n",
    "column_df = (pd.DataFrame([x.split() for x in lines[6:-2]], columns=lines[3].split())\n",
    "       .drop('Count',axis=1)\n",
    "       .rename(columns={'Non-Null':'Non-Null Count'}))\n",
    "column_df.head()"
   ]
  },
  {
   "cell_type": "code",
   "execution_count": 6,
   "id": "1d03953b-02db-42b1-ac64-df9a3163b7e1",
   "metadata": {},
   "outputs": [
    {
     "data": {
      "text/html": [
       "<div>\n",
       "<style scoped>\n",
       "    .dataframe tbody tr th:only-of-type {\n",
       "        vertical-align: middle;\n",
       "    }\n",
       "\n",
       "    .dataframe tbody tr th {\n",
       "        vertical-align: top;\n",
       "    }\n",
       "\n",
       "    .dataframe thead th {\n",
       "        text-align: right;\n",
       "    }\n",
       "</style>\n",
       "<table border=\"1\" class=\"dataframe\">\n",
       "  <thead>\n",
       "    <tr style=\"text-align: right;\">\n",
       "      <th></th>\n",
       "      <th>column_name</th>\n",
       "      <th>unique_count</th>\n",
       "    </tr>\n",
       "  </thead>\n",
       "  <tbody>\n",
       "    <tr>\n",
       "      <th>13</th>\n",
       "      <td>plan_type</td>\n",
       "      <td>3</td>\n",
       "    </tr>\n",
       "    <tr>\n",
       "      <th>9</th>\n",
       "      <td>access</td>\n",
       "      <td>4</td>\n",
       "    </tr>\n",
       "    <tr>\n",
       "      <th>1</th>\n",
       "      <td>Status</td>\n",
       "      <td>5</td>\n",
       "    </tr>\n",
       "    <tr>\n",
       "      <th>8</th>\n",
       "      <td>autonomy</td>\n",
       "      <td>6</td>\n",
       "    </tr>\n",
       "    <tr>\n",
       "      <th>3</th>\n",
       "      <td>located</td>\n",
       "      <td>7</td>\n",
       "    </tr>\n",
       "    <tr>\n",
       "      <th>10</th>\n",
       "      <td>country</td>\n",
       "      <td>7</td>\n",
       "    </tr>\n",
       "    <tr>\n",
       "      <th>0</th>\n",
       "      <td>Product</td>\n",
       "      <td>8</td>\n",
       "    </tr>\n",
       "    <tr>\n",
       "      <th>7</th>\n",
       "      <td>complex</td>\n",
       "      <td>8</td>\n",
       "    </tr>\n",
       "    <tr>\n",
       "      <th>11</th>\n",
       "      <td>activityType</td>\n",
       "      <td>12</td>\n",
       "    </tr>\n",
       "    <tr>\n",
       "      <th>12</th>\n",
       "      <td>secondFavActivityType</td>\n",
       "      <td>13</td>\n",
       "    </tr>\n",
       "    <tr>\n",
       "      <th>6</th>\n",
       "      <td>focus</td>\n",
       "      <td>444</td>\n",
       "    </tr>\n",
       "    <tr>\n",
       "      <th>5</th>\n",
       "      <td>population</td>\n",
       "      <td>473</td>\n",
       "    </tr>\n",
       "    <tr>\n",
       "      <th>2</th>\n",
       "      <td>typeOfPractice</td>\n",
       "      <td>474</td>\n",
       "    </tr>\n",
       "    <tr>\n",
       "      <th>4</th>\n",
       "      <td>specialities</td>\n",
       "      <td>3667</td>\n",
       "    </tr>\n",
       "    <tr>\n",
       "      <th>14</th>\n",
       "      <td>metaGoalTitle</td>\n",
       "      <td>7378</td>\n",
       "    </tr>\n",
       "  </tbody>\n",
       "</table>\n",
       "</div>"
      ],
      "text/plain": [
       "              column_name  unique_count\n",
       "13              plan_type             3\n",
       "9                  access             4\n",
       "1                  Status             5\n",
       "8                autonomy             6\n",
       "3                 located             7\n",
       "10                country             7\n",
       "0                 Product             8\n",
       "7                 complex             8\n",
       "11           activityType            12\n",
       "12  secondFavActivityType            13\n",
       "6                   focus           444\n",
       "5              population           473\n",
       "2          typeOfPractice           474\n",
       "4            specialities          3667\n",
       "14          metaGoalTitle          7378"
      ]
     },
     "execution_count": 6,
     "metadata": {},
     "output_type": "execute_result"
    }
   ],
   "source": [
    "#categorical data only\n",
    "\n",
    "cat_columns = column_df[column_df['Dtype']=='object'].reset_index().Column\n",
    "non_cat_columns = column_df[column_df['Dtype']!='object'].reset_index().Column\n",
    "\n",
    "cat_columns_df = training_data[cat_columns].drop(columns =['userID','stripeCustID','pProfileID'])\n",
    "\n",
    "# 'startDate','endDate','createDate'\n",
    "\n",
    "unique_value_list = []\n",
    "for x in range(0, len(cat_columns_df.columns)):\n",
    "    y = cat_columns_df[cat_columns_df.columns[x]].nunique()\n",
    "    unique_value_list.append([cat_columns_df.columns[x], y])\n",
    "    \n",
    "unique_value_df = pd.DataFrame(unique_value_list, columns = ['column_name','unique_count'])\n",
    "unique_value_df.sort_values(by ='unique_count')"
   ]
  },
  {
   "cell_type": "code",
   "execution_count": 7,
   "id": "cb9c611f-53a4-43aa-b861-ddaffa9da76a",
   "metadata": {},
   "outputs": [],
   "source": [
    "#Ordinal Encoding\n",
    "#autonomy;\n",
    "#plan_type;\n",
    "#access\n",
    "#Status: clean to 0 and 1, active and inactive;\n",
    "#complex: 0-3; further cleaning required to get the consistent wording;\n"
   ]
  },
  {
   "cell_type": "code",
   "execution_count": 8,
   "id": "0c6c32f1-d517-4db4-87cf-9c3ed7d6b4f8",
   "metadata": {},
   "outputs": [],
   "source": [
    "#OneHotEncoder\n",
    "#located: clean and condense to rural and city only;\n",
    "#favActivityType: reduced to 5 and other;\n",
    "#2ndFavActivityType: reduced to 5 and other;\n"
   ]
  },
  {
   "cell_type": "code",
   "execution_count": 9,
   "id": "b024d321-c1ae-43c4-bd65-609eae1e7397",
   "metadata": {},
   "outputs": [],
   "source": [
    "#feature to remove\n",
    "#country: 6123 out of 6129 are from AUS;\n",
    "#Product: unsure 5,772 Ausmed subscriptons vs 351 loyalty subscription; futher cleaning needed;\n"
   ]
  },
  {
   "cell_type": "markdown",
   "id": "89e9da02-34df-4578-87cb-dc708cfee7eb",
   "metadata": {},
   "source": [
    "## feature reviewing"
   ]
  },
  {
   "cell_type": "code",
   "execution_count": 10,
   "id": "7facc55c-0d14-43a0-90cb-1fef83b5e4bd",
   "metadata": {
    "tags": []
   },
   "outputs": [
    {
     "data": {
      "text/plain": [
       "moderate                                      4209\n",
       "high                                          1788\n",
       "minimal                                        728\n",
       "a moderate amount of professional autonomy      11\n",
       "a high level of professional autonomy            4\n",
       "a minimal professional autonomy                  1\n",
       "Name: autonomy, dtype: int64"
      ]
     },
     "execution_count": 10,
     "metadata": {},
     "output_type": "execute_result"
    }
   ],
   "source": [
    "training_data['autonomy'].value_counts()"
   ]
  },
  {
   "cell_type": "code",
   "execution_count": 11,
   "id": "9f69d9b0-6748-467e-9915-d9d22e958760",
   "metadata": {
    "tags": []
   },
   "outputs": [
    {
     "data": {
      "text/plain": [
       "quarterly    5240\n",
       "monthly      1442\n",
       "annually      800\n",
       "Name: plan_type, dtype: int64"
      ]
     },
     "execution_count": 11,
     "metadata": {},
     "output_type": "execute_result"
    }
   ],
   "source": [
    "training_data['plan_type'].value_counts()"
   ]
  },
  {
   "cell_type": "code",
   "execution_count": 12,
   "id": "cf986cd5-fb4a-45ad-b7b1-bba94e38d1d1",
   "metadata": {
    "tags": []
   },
   "outputs": [
    {
     "data": {
      "text/plain": [
       "always       3996\n",
       "usually      2117\n",
       "sometimes     595\n",
       "never          33\n",
       "Name: access, dtype: int64"
      ]
     },
     "execution_count": 12,
     "metadata": {},
     "output_type": "execute_result"
    }
   ],
   "source": [
    "training_data['access'].value_counts()"
   ]
  },
  {
   "cell_type": "code",
   "execution_count": 13,
   "id": "ef845c26-622c-4bc7-8366-1b75a02d75d1",
   "metadata": {
    "tags": []
   },
   "outputs": [
    {
     "data": {
      "text/plain": [
       "active                4004\n",
       "canceled              3310\n",
       "past_due               141\n",
       "incomplete_expired      24\n",
       "trialing                 3\n",
       "Name: Status, dtype: int64"
      ]
     },
     "execution_count": 13,
     "metadata": {},
     "output_type": "execute_result"
    }
   ],
   "source": [
    "training_data['Status'].value_counts()"
   ]
  },
  {
   "cell_type": "code",
   "execution_count": 14,
   "id": "47641f9e-4bb8-419c-b95d-5239b6704a03",
   "metadata": {
    "tags": []
   },
   "outputs": [
    {
     "data": {
      "text/plain": [
       "metropolitan centre          2832\n",
       "large rural centre           1485\n",
       "capital city                 1232\n",
       "small rural centre            925\n",
       "remote area                   261\n",
       "other metropolitan centre       5\n",
       "other rural area                1\n",
       "Name: located, dtype: int64"
      ]
     },
     "execution_count": 14,
     "metadata": {},
     "output_type": "execute_result"
    }
   ],
   "source": [
    "training_data['located'].value_counts()"
   ]
  },
  {
   "cell_type": "code",
   "execution_count": 15,
   "id": "b1e7a810-3e19-425b-bb83-27a237111f6d",
   "metadata": {
    "tags": []
   },
   "outputs": [
    {
     "data": {
      "text/plain": [
       "AUS    7461\n",
       "NZL      13\n",
       "GBR       4\n",
       "ARE       1\n",
       "USA       1\n",
       "ZAF       1\n",
       "MYS       1\n",
       "Name: country, dtype: int64"
      ]
     },
     "execution_count": 15,
     "metadata": {},
     "output_type": "execute_result"
    }
   ],
   "source": [
    "training_data['country'].value_counts()"
   ]
  },
  {
   "cell_type": "code",
   "execution_count": 16,
   "id": "6ba0b8ef-4f0e-4244-adc6-c2856c389b1f",
   "metadata": {
    "tags": []
   },
   "outputs": [
    {
     "data": {
      "text/plain": [
       "Ausmed Subscription            6160\n",
       "Ausmed Subscription Monthly     663\n",
       "Loyalty Subscription            483\n",
       "Ausmed Loyalty Monthly          154\n",
       "Ausmed NZ Subscription           11\n",
       "Ausmed US Subscription            7\n",
       "Ausmed UK Subscription            3\n",
       "Ausmed Loyalty Annually           1\n",
       "Name: Product, dtype: int64"
      ]
     },
     "execution_count": 16,
     "metadata": {},
     "output_type": "execute_result"
    }
   ],
   "source": [
    "training_data['Product'].value_counts()"
   ]
  },
  {
   "cell_type": "code",
   "execution_count": 17,
   "id": "df698bd3-8a0b-48c1-901b-5c273da78f1b",
   "metadata": {
    "tags": []
   },
   "outputs": [
    {
     "data": {
      "text/plain": [
       "generally complex         3975\n",
       "very complex              1467\n",
       "high complexity            811\n",
       "low complexity             459\n",
       "be generally complex        12\n",
       "be very complex             10\n",
       "have a high complexity       4\n",
       "have high complexity         3\n",
       "Name: complex, dtype: int64"
      ]
     },
     "execution_count": 17,
     "metadata": {},
     "output_type": "execute_result"
    }
   ],
   "source": [
    "training_data['complex'].value_counts()"
   ]
  },
  {
   "cell_type": "code",
   "execution_count": 18,
   "id": "e57fa982-8468-4323-a751-e03ba8de2817",
   "metadata": {},
   "outputs": [
    {
     "data": {
      "text/plain": [
       "e-Learning           4254\n",
       "Textbook             1640\n",
       "Competency            587\n",
       "In-Service            474\n",
       "Conference            183\n",
       "Other                 156\n",
       "Teaching               54\n",
       "Mentoring              51\n",
       "Meeting                38\n",
       "Postgraduate           26\n",
       "Procedure              16\n",
       "Peer Consultation       3\n",
       "Name: activityType, dtype: int64"
      ]
     },
     "execution_count": 18,
     "metadata": {},
     "output_type": "execute_result"
    }
   ],
   "source": [
    "training_data['activityType'].value_counts()"
   ]
  },
  {
   "cell_type": "code",
   "execution_count": 19,
   "id": "3b533cc3-5e90-44fe-a1c2-a1b737b73bd4",
   "metadata": {},
   "outputs": [
    {
     "data": {
      "text/plain": [
       "e-Learning           3388\n",
       "Textbook             1837\n",
       "Competency            750\n",
       "In-Service            677\n",
       "Other                 280\n",
       "Conference            273\n",
       "Teaching               89\n",
       "Meeting                63\n",
       "Mentoring              59\n",
       "Procedure              34\n",
       "Postgraduate           27\n",
       "Peer Consultation       3\n",
       "Research                2\n",
       "Name: secondFavActivityType, dtype: int64"
      ]
     },
     "execution_count": 19,
     "metadata": {},
     "output_type": "execute_result"
    }
   ],
   "source": [
    "training_data['secondFavActivityType'].value_counts()"
   ]
  },
  {
   "cell_type": "code",
   "execution_count": 20,
   "id": "80e2bacf-2fdc-4231-81d7-8c2fc8f3e2c1",
   "metadata": {},
   "outputs": [],
   "source": [
    "import joblib\n",
    "\n",
    "baseline = joblib.load(\"../model.joblib\")\n",
    "\n",
    "training_data_df = pd.read_csv(\"../raw_data/training_data.csv\", index_col=[0])\n",
    "\n",
    "c = baseline.predict(training_data_df)"
   ]
  },
  {
   "cell_type": "code",
   "execution_count": 21,
   "id": "520beb75-255c-4f21-b037-5f72efa6860e",
   "metadata": {},
   "outputs": [],
   "source": [
    "training_data_df_labels = training_data_df.copy()\n",
    "training_data_df_labels['col_labels'] = c"
   ]
  },
  {
   "cell_type": "code",
   "execution_count": 22,
   "id": "9334e5ee-5cd3-4afb-bcdf-df71e6bf5f7a",
   "metadata": {},
   "outputs": [],
   "source": [
    "individual_user = baseline.predict(training_data_df.iloc[:1, :])"
   ]
  },
  {
   "cell_type": "code",
   "execution_count": 23,
   "id": "a00140e3-28f3-4948-9462-aabea5aa963b",
   "metadata": {},
   "outputs": [
    {
     "data": {
      "text/plain": [
       "array([7], dtype=int32)"
      ]
     },
     "execution_count": 23,
     "metadata": {},
     "output_type": "execute_result"
    }
   ],
   "source": [
    "individual_user"
   ]
  },
  {
   "cell_type": "code",
   "execution_count": 24,
   "id": "c5f6aedf-795d-45a1-9a42-a67bf532b3aa",
   "metadata": {},
   "outputs": [],
   "source": [
    "# df_labels.to_csv('../raw_data/df_with_labels.csv')"
   ]
  },
  {
   "cell_type": "code",
   "execution_count": 25,
   "id": "b6ab50cf-3f3c-45ef-a275-47020acd4760",
   "metadata": {},
   "outputs": [
    {
     "data": {
      "text/html": [
       "<div>\n",
       "<style scoped>\n",
       "    .dataframe tbody tr th:only-of-type {\n",
       "        vertical-align: middle;\n",
       "    }\n",
       "\n",
       "    .dataframe tbody tr th {\n",
       "        vertical-align: top;\n",
       "    }\n",
       "\n",
       "    .dataframe thead th {\n",
       "        text-align: right;\n",
       "    }\n",
       "</style>\n",
       "<table border=\"1\" class=\"dataframe\">\n",
       "  <thead>\n",
       "    <tr style=\"text-align: right;\">\n",
       "      <th></th>\n",
       "      <th>Product</th>\n",
       "      <th>Status</th>\n",
       "      <th>userID</th>\n",
       "      <th>stripeCustID</th>\n",
       "      <th>num_subs</th>\n",
       "      <th>account_age</th>\n",
       "      <th>pProfileID</th>\n",
       "      <th>typeOfPractice</th>\n",
       "      <th>located</th>\n",
       "      <th>specialities</th>\n",
       "      <th>...</th>\n",
       "      <th>RatioOfCompletion_min</th>\n",
       "      <th>event_cpd_day_diff</th>\n",
       "      <th>doc_in_activation</th>\n",
       "      <th>activated</th>\n",
       "      <th>plan_type</th>\n",
       "      <th>subscribe_days</th>\n",
       "      <th>GoalsPerYear</th>\n",
       "      <th>ratioOfAchivedGoals</th>\n",
       "      <th>metaGoalTitle</th>\n",
       "      <th>col_labels</th>\n",
       "    </tr>\n",
       "  </thead>\n",
       "  <tbody>\n",
       "    <tr>\n",
       "      <th>0</th>\n",
       "      <td>Ausmed Subscription</td>\n",
       "      <td>incomplete_expired</td>\n",
       "      <td>6037d38d-d098-4f68-be8c-49b7131b8116</td>\n",
       "      <td>cus_CVloz8uJiXpqfF</td>\n",
       "      <td>10</td>\n",
       "      <td>1613.0</td>\n",
       "      <td>41b3e81d-ccdd-40c8-b268-874344b0a1bf</td>\n",
       "      <td>hospital</td>\n",
       "      <td>remote area</td>\n",
       "      <td>Rehabilitation,Aged care ,Medical</td>\n",
       "      <td>...</td>\n",
       "      <td>0.000000</td>\n",
       "      <td>117.197044</td>\n",
       "      <td>10</td>\n",
       "      <td>1</td>\n",
       "      <td>quarterly</td>\n",
       "      <td>1538</td>\n",
       "      <td>5.0</td>\n",
       "      <td>0.4</td>\n",
       "      <td>To gain confidence ,skills and knowledge as a ...</td>\n",
       "      <td>7</td>\n",
       "    </tr>\n",
       "    <tr>\n",
       "      <th>1</th>\n",
       "      <td>Ausmed Subscription</td>\n",
       "      <td>canceled</td>\n",
       "      <td>62d1fe96-34f6-4992-9f15-b240f07770d8</td>\n",
       "      <td>cus_EoCO9ITZcMHmkA</td>\n",
       "      <td>9</td>\n",
       "      <td>1233.0</td>\n",
       "      <td>71a06b47-4762-49d2-b5fd-161c7ce6e1cd</td>\n",
       "      <td>hospital</td>\n",
       "      <td>large rural centre</td>\n",
       "      <td>Addiction and Substance Abuse</td>\n",
       "      <td>...</td>\n",
       "      <td>0.000000</td>\n",
       "      <td>164.064103</td>\n",
       "      <td>2</td>\n",
       "      <td>1</td>\n",
       "      <td>quarterly</td>\n",
       "      <td>0</td>\n",
       "      <td>1.5</td>\n",
       "      <td>0.0</td>\n",
       "      <td>Do my best Gehenna d f r dwa wa daw daw</td>\n",
       "      <td>9</td>\n",
       "    </tr>\n",
       "    <tr>\n",
       "      <th>2</th>\n",
       "      <td>Ausmed Subscription</td>\n",
       "      <td>canceled</td>\n",
       "      <td>6e6b0e01-4a29-4724-a781-5d6a0d72a213</td>\n",
       "      <td>cus_BVqWWYIZ4tLhQr</td>\n",
       "      <td>6</td>\n",
       "      <td>2122.0</td>\n",
       "      <td>0cccdf89-bae9-4d06-8a40-81a6c7b3b7ce</td>\n",
       "      <td>GP Surgery</td>\n",
       "      <td>metropolitan centre</td>\n",
       "      <td>Immunisation,Chronic Illness</td>\n",
       "      <td>...</td>\n",
       "      <td>0.071138</td>\n",
       "      <td>149.362205</td>\n",
       "      <td>4</td>\n",
       "      <td>1</td>\n",
       "      <td>monthly</td>\n",
       "      <td>193</td>\n",
       "      <td>2.0</td>\n",
       "      <td>0.0</td>\n",
       "      <td>Covid vaccination and wound management. \\nMy r...</td>\n",
       "      <td>10</td>\n",
       "    </tr>\n",
       "    <tr>\n",
       "      <th>3</th>\n",
       "      <td>Ausmed Subscription</td>\n",
       "      <td>active</td>\n",
       "      <td>33d2881f-8bc6-4b98-bafe-bfd20b141ee2</td>\n",
       "      <td>cus_AVUDPqhuPS9HRy</td>\n",
       "      <td>5</td>\n",
       "      <td>1945.0</td>\n",
       "      <td>72593341-edad-404e-9a92-bf7f576e5207</td>\n",
       "      <td>hospital</td>\n",
       "      <td>metropolitan centre</td>\n",
       "      <td>aged care; wound care and the continuity of he...</td>\n",
       "      <td>...</td>\n",
       "      <td>0.013096</td>\n",
       "      <td>76.311787</td>\n",
       "      <td>2</td>\n",
       "      <td>1</td>\n",
       "      <td>quarterly</td>\n",
       "      <td>315</td>\n",
       "      <td>1.0</td>\n",
       "      <td>0.0</td>\n",
       "      <td>By the end of 2021 I would like to expand my k...</td>\n",
       "      <td>6</td>\n",
       "    </tr>\n",
       "    <tr>\n",
       "      <th>4</th>\n",
       "      <td>Ausmed Subscription</td>\n",
       "      <td>incomplete_expired</td>\n",
       "      <td>5f048ee3-4ea0-41e1-b859-c1cd9c95d80b</td>\n",
       "      <td>cus_F71ikWaGTyumEe</td>\n",
       "      <td>5</td>\n",
       "      <td>1183.0</td>\n",
       "      <td>752db353-5793-4636-acd7-fe3205291c91</td>\n",
       "      <td>Unemployed.</td>\n",
       "      <td>small rural centre</td>\n",
       "      <td>NaN</td>\n",
       "      <td>...</td>\n",
       "      <td>0.000000</td>\n",
       "      <td>8.618321</td>\n",
       "      <td>4</td>\n",
       "      <td>1</td>\n",
       "      <td>quarterly</td>\n",
       "      <td>73</td>\n",
       "      <td>2.0</td>\n",
       "      <td>0.0</td>\n",
       "      <td>Study, learn and retain knowledge. Do online s...</td>\n",
       "      <td>5</td>\n",
       "    </tr>\n",
       "  </tbody>\n",
       "</table>\n",
       "<p>5 rows × 38 columns</p>\n",
       "</div>"
      ],
      "text/plain": [
       "               Product              Status  \\\n",
       "0  Ausmed Subscription  incomplete_expired   \n",
       "1  Ausmed Subscription            canceled   \n",
       "2  Ausmed Subscription            canceled   \n",
       "3  Ausmed Subscription              active   \n",
       "4  Ausmed Subscription  incomplete_expired   \n",
       "\n",
       "                                 userID        stripeCustID  num_subs  \\\n",
       "0  6037d38d-d098-4f68-be8c-49b7131b8116  cus_CVloz8uJiXpqfF        10   \n",
       "1  62d1fe96-34f6-4992-9f15-b240f07770d8  cus_EoCO9ITZcMHmkA         9   \n",
       "2  6e6b0e01-4a29-4724-a781-5d6a0d72a213  cus_BVqWWYIZ4tLhQr         6   \n",
       "3  33d2881f-8bc6-4b98-bafe-bfd20b141ee2  cus_AVUDPqhuPS9HRy         5   \n",
       "4  5f048ee3-4ea0-41e1-b859-c1cd9c95d80b  cus_F71ikWaGTyumEe         5   \n",
       "\n",
       "   account_age                            pProfileID typeOfPractice  \\\n",
       "0       1613.0  41b3e81d-ccdd-40c8-b268-874344b0a1bf       hospital   \n",
       "1       1233.0  71a06b47-4762-49d2-b5fd-161c7ce6e1cd       hospital   \n",
       "2       2122.0  0cccdf89-bae9-4d06-8a40-81a6c7b3b7ce     GP Surgery   \n",
       "3       1945.0  72593341-edad-404e-9a92-bf7f576e5207       hospital   \n",
       "4       1183.0  752db353-5793-4636-acd7-fe3205291c91    Unemployed.   \n",
       "\n",
       "               located                                       specialities  \\\n",
       "0          remote area                 Rehabilitation,Aged care ,Medical    \n",
       "1   large rural centre                      Addiction and Substance Abuse   \n",
       "2  metropolitan centre                       Immunisation,Chronic Illness   \n",
       "3  metropolitan centre  aged care; wound care and the continuity of he...   \n",
       "4   small rural centre                                                NaN   \n",
       "\n",
       "   ... RatioOfCompletion_min event_cpd_day_diff doc_in_activation activated  \\\n",
       "0  ...              0.000000         117.197044                10         1   \n",
       "1  ...              0.000000         164.064103                 2         1   \n",
       "2  ...              0.071138         149.362205                 4         1   \n",
       "3  ...              0.013096          76.311787                 2         1   \n",
       "4  ...              0.000000           8.618321                 4         1   \n",
       "\n",
       "   plan_type subscribe_days GoalsPerYear ratioOfAchivedGoals  \\\n",
       "0  quarterly           1538          5.0                 0.4   \n",
       "1  quarterly              0          1.5                 0.0   \n",
       "2    monthly            193          2.0                 0.0   \n",
       "3  quarterly            315          1.0                 0.0   \n",
       "4  quarterly             73          2.0                 0.0   \n",
       "\n",
       "                                       metaGoalTitle col_labels  \n",
       "0  To gain confidence ,skills and knowledge as a ...          7  \n",
       "1           Do my best Gehenna d f r dwa wa daw daw           9  \n",
       "2  Covid vaccination and wound management. \\nMy r...         10  \n",
       "3  By the end of 2021 I would like to expand my k...          6  \n",
       "4  Study, learn and retain knowledge. Do online s...          5  \n",
       "\n",
       "[5 rows x 38 columns]"
      ]
     },
     "execution_count": 25,
     "metadata": {},
     "output_type": "execute_result"
    }
   ],
   "source": [
    "cluster_df = pd.read_csv(\"../raw_data/df_with_labels.csv\",index_col=[0])\n",
    "cluster_df.head()"
   ]
  },
  {
   "cell_type": "code",
   "execution_count": 26,
   "id": "1d7b3860-f10a-423b-a6b1-ae25f0f7c317",
   "metadata": {},
   "outputs": [
    {
     "data": {
      "text/plain": [
       "9     1700\n",
       "6     1353\n",
       "5      987\n",
       "2      688\n",
       "10     666\n",
       "4      368\n",
       "8      172\n",
       "7       86\n",
       "3       86\n",
       "0       20\n",
       "1        3\n",
       "Name: col_labels, dtype: int64"
      ]
     },
     "execution_count": 26,
     "metadata": {},
     "output_type": "execute_result"
    }
   ],
   "source": [
    "cluster_df['col_labels'].value_counts()"
   ]
  },
  {
   "cell_type": "code",
   "execution_count": 27,
   "id": "0f10e9b0-c47c-4b07-95d4-b3d652c924bd",
   "metadata": {},
   "outputs": [
    {
     "data": {
      "text/html": [
       "<div>\n",
       "<style scoped>\n",
       "    .dataframe tbody tr th:only-of-type {\n",
       "        vertical-align: middle;\n",
       "    }\n",
       "\n",
       "    .dataframe tbody tr th {\n",
       "        vertical-align: top;\n",
       "    }\n",
       "\n",
       "    .dataframe thead th {\n",
       "        text-align: right;\n",
       "    }\n",
       "</style>\n",
       "<table border=\"1\" class=\"dataframe\">\n",
       "  <thead>\n",
       "    <tr style=\"text-align: right;\">\n",
       "      <th></th>\n",
       "      <th>Product</th>\n",
       "      <th>Status</th>\n",
       "      <th>userID</th>\n",
       "      <th>stripeCustID</th>\n",
       "      <th>num_subs</th>\n",
       "      <th>account_age</th>\n",
       "      <th>pProfileID</th>\n",
       "      <th>typeOfPractice</th>\n",
       "      <th>located</th>\n",
       "      <th>specialities</th>\n",
       "      <th>...</th>\n",
       "      <th>RatioOfCompletion_min</th>\n",
       "      <th>event_cpd_day_diff</th>\n",
       "      <th>doc_in_activation</th>\n",
       "      <th>activated</th>\n",
       "      <th>plan_type</th>\n",
       "      <th>subscribe_days</th>\n",
       "      <th>GoalsPerYear</th>\n",
       "      <th>ratioOfAchivedGoals</th>\n",
       "      <th>metaGoalTitle</th>\n",
       "      <th>col_labels</th>\n",
       "    </tr>\n",
       "  </thead>\n",
       "  <tbody>\n",
       "    <tr>\n",
       "      <th>2070</th>\n",
       "      <td>Ausmed Subscription</td>\n",
       "      <td>canceled</td>\n",
       "      <td>43efb25e-4c95-4ab8-957a-75ee802157c3</td>\n",
       "      <td>cus_F0AvpPOlOFjQS0</td>\n",
       "      <td>1</td>\n",
       "      <td>1201.0</td>\n",
       "      <td>597b1305-113a-4c0e-9954-f26f949e4131</td>\n",
       "      <td>private practice</td>\n",
       "      <td>capital city</td>\n",
       "      <td>theatre</td>\n",
       "      <td>...</td>\n",
       "      <td>0.0</td>\n",
       "      <td>82.687500</td>\n",
       "      <td>1</td>\n",
       "      <td>0</td>\n",
       "      <td>quarterly</td>\n",
       "      <td>82</td>\n",
       "      <td>1.000000</td>\n",
       "      <td>0.000</td>\n",
       "      <td>..</td>\n",
       "      <td>1</td>\n",
       "    </tr>\n",
       "    <tr>\n",
       "      <th>2634</th>\n",
       "      <td>Loyalty Subscription</td>\n",
       "      <td>active</td>\n",
       "      <td>5c51d36e-c616-4b40-80da-0536102c9b15</td>\n",
       "      <td>cus_CF3csnbEaeegKE</td>\n",
       "      <td>1</td>\n",
       "      <td>1658.0</td>\n",
       "      <td>9960a41b-009e-48b2-b217-fabafe106705</td>\n",
       "      <td>general medical practice</td>\n",
       "      <td>capital city</td>\n",
       "      <td>Adolescent Health,Aged Care,Midwi,Midwifery,In...</td>\n",
       "      <td>...</td>\n",
       "      <td>0.0</td>\n",
       "      <td>149.750000</td>\n",
       "      <td>6</td>\n",
       "      <td>1</td>\n",
       "      <td>annually</td>\n",
       "      <td>1656</td>\n",
       "      <td>2.666667</td>\n",
       "      <td>0.375</td>\n",
       "      <td>To improve my understanding of Influenza Preve...</td>\n",
       "      <td>1</td>\n",
       "    </tr>\n",
       "    <tr>\n",
       "      <th>4566</th>\n",
       "      <td>Loyalty Subscription</td>\n",
       "      <td>active</td>\n",
       "      <td>b540968d-a3a2-4712-bb7b-3348926cb3b2</td>\n",
       "      <td>cus_DfrcWtcr6VuSwC</td>\n",
       "      <td>1</td>\n",
       "      <td>2016.0</td>\n",
       "      <td>93b85cba-fec1-4fb6-9897-bf6f4d224f17</td>\n",
       "      <td>residential aged care facility</td>\n",
       "      <td>large rural centre</td>\n",
       "      <td>Aged Care, Home Care,Accreditation,Ageing</td>\n",
       "      <td>...</td>\n",
       "      <td>0.0</td>\n",
       "      <td>279.705882</td>\n",
       "      <td>1</td>\n",
       "      <td>0</td>\n",
       "      <td>monthly</td>\n",
       "      <td>1419</td>\n",
       "      <td>3.000000</td>\n",
       "      <td>0.500</td>\n",
       "      <td>To Complete Certificate IV in WH&amp;S  Undertake ...</td>\n",
       "      <td>1</td>\n",
       "    </tr>\n",
       "  </tbody>\n",
       "</table>\n",
       "<p>3 rows × 38 columns</p>\n",
       "</div>"
      ],
      "text/plain": [
       "                   Product    Status                                userID  \\\n",
       "2070   Ausmed Subscription  canceled  43efb25e-4c95-4ab8-957a-75ee802157c3   \n",
       "2634  Loyalty Subscription    active  5c51d36e-c616-4b40-80da-0536102c9b15   \n",
       "4566  Loyalty Subscription    active  b540968d-a3a2-4712-bb7b-3348926cb3b2   \n",
       "\n",
       "            stripeCustID  num_subs  account_age  \\\n",
       "2070  cus_F0AvpPOlOFjQS0         1       1201.0   \n",
       "2634  cus_CF3csnbEaeegKE         1       1658.0   \n",
       "4566  cus_DfrcWtcr6VuSwC         1       2016.0   \n",
       "\n",
       "                                pProfileID                  typeOfPractice  \\\n",
       "2070  597b1305-113a-4c0e-9954-f26f949e4131                private practice   \n",
       "2634  9960a41b-009e-48b2-b217-fabafe106705        general medical practice   \n",
       "4566  93b85cba-fec1-4fb6-9897-bf6f4d224f17  residential aged care facility   \n",
       "\n",
       "                 located                                       specialities  \\\n",
       "2070        capital city                                            theatre   \n",
       "2634        capital city  Adolescent Health,Aged Care,Midwi,Midwifery,In...   \n",
       "4566  large rural centre          Aged Care, Home Care,Accreditation,Ageing   \n",
       "\n",
       "      ... RatioOfCompletion_min event_cpd_day_diff doc_in_activation  \\\n",
       "2070  ...                   0.0          82.687500                 1   \n",
       "2634  ...                   0.0         149.750000                 6   \n",
       "4566  ...                   0.0         279.705882                 1   \n",
       "\n",
       "     activated  plan_type subscribe_days GoalsPerYear ratioOfAchivedGoals  \\\n",
       "2070         0  quarterly             82     1.000000               0.000   \n",
       "2634         1   annually           1656     2.666667               0.375   \n",
       "4566         0    monthly           1419     3.000000               0.500   \n",
       "\n",
       "                                          metaGoalTitle col_labels  \n",
       "2070                                                 ..          1  \n",
       "2634  To improve my understanding of Influenza Preve...          1  \n",
       "4566  To Complete Certificate IV in WH&S  Undertake ...          1  \n",
       "\n",
       "[3 rows x 38 columns]"
      ]
     },
     "execution_count": 27,
     "metadata": {},
     "output_type": "execute_result"
    }
   ],
   "source": [
    "cluster_df[cluster_df['col_labels']==1]"
   ]
  },
  {
   "cell_type": "code",
   "execution_count": 28,
   "id": "7d3dc1d1-ea6b-4c9c-97f4-b97472e5fac1",
   "metadata": {},
   "outputs": [],
   "source": [
    "import seaborn as sns"
   ]
  },
  {
   "cell_type": "code",
   "execution_count": 29,
   "id": "2731ada0-0af7-4664-98ca-3db727efce41",
   "metadata": {},
   "outputs": [
    {
     "data": {
      "text/plain": [
       "Index(['Product', 'Status', 'userID', 'stripeCustID', 'num_subs',\n",
       "       'account_age', 'pProfileID', 'typeOfPractice', 'located',\n",
       "       'specialities', 'population', 'focus', 'complex', 'autonomy', 'access',\n",
       "       'startDate', 'endDate', 'createDate', 'country', 'favActivityType',\n",
       "       '2ndFavActivityType', 'minPerYear', 'percentageOfLearningFromAusmed',\n",
       "       'numQueued', 'numCompletedFromQueue', 'minQueued', 'minCompleted',\n",
       "       'RatioOfCompletion_num', 'RatioOfCompletion_min', 'event_cpd_day_diff',\n",
       "       'doc_in_activation', 'activated', 'plan_type', 'subscribe_days',\n",
       "       'GoalsPerYear', 'ratioOfAchivedGoals', 'metaGoalTitle', 'col_labels'],\n",
       "      dtype='object')"
      ]
     },
     "execution_count": 29,
     "metadata": {},
     "output_type": "execute_result"
    }
   ],
   "source": [
    "cluster_df.columns"
   ]
  },
  {
   "cell_type": "code",
   "execution_count": 30,
   "id": "2f73a895-5705-4c65-bce7-8a574e58748e",
   "metadata": {
    "tags": []
   },
   "outputs": [],
   "source": [
    "from IPython.display import Markdown\n",
    "import matplotlib.pyplot as plt\n",
    "\n",
    "cluster_df_new = cluster_df.drop(columns = ['Product', 'stripeCustID', 'userID','pProfileID',\\\n",
    "                                            'focus', 'typeOfPractice', 'specialities', 'population',\\\n",
    "                                            'country', 'metaGoalTitle'])\n",
    "\n",
    "# hue = 'col_labels'\n",
    "# vars_per_line = 5\n",
    "# all_vars = list(cluster_df_new.columns.symmetric_difference([hue]))\n",
    "           \n",
    "# for var in all_vars:\n",
    "#     rest_vars = list(all_vars)\n",
    "#     rest_vars.remove(var)\n",
    "#     display(Markdown(f\"## {var}\"))\n",
    "#     while rest_vars:\n",
    "#         line_vars = rest_vars[:vars_per_line]\n",
    "#         del rest_vars[:vars_per_line]\n",
    "#         line_var_names = \", \".join(line_vars)\n",
    "#         display(Markdown(f\"### {var} vs {line_var_names}\"))\n",
    "#         sns.pairplot(cluster_df_new, x_vars=line_vars, y_vars=[var], hue=hue, palette='bright', \\\n",
    "#                      height = 2, aspect = 1 )\n",
    "#         plt.show()\n",
    "#         plt.close()      "
   ]
  },
  {
   "cell_type": "markdown",
   "id": "a40cb4a4-e675-450d-a184-74fe50d9bdbc",
   "metadata": {},
   "source": [
    "# features and clusters"
   ]
  },
  {
   "cell_type": "markdown",
   "id": "d2476135-3a6d-4736-9c9d-ef7828418a0a",
   "metadata": {},
   "source": [
    "## separate num and cat features"
   ]
  },
  {
   "cell_type": "code",
   "execution_count": 31,
   "id": "7e4df9dd-451a-49aa-9a6e-9aa5e916ae52",
   "metadata": {},
   "outputs": [
    {
     "data": {
      "text/html": [
       "<div>\n",
       "<style scoped>\n",
       "    .dataframe tbody tr th:only-of-type {\n",
       "        vertical-align: middle;\n",
       "    }\n",
       "\n",
       "    .dataframe tbody tr th {\n",
       "        vertical-align: top;\n",
       "    }\n",
       "\n",
       "    .dataframe thead th {\n",
       "        text-align: right;\n",
       "    }\n",
       "</style>\n",
       "<table border=\"1\" class=\"dataframe\">\n",
       "  <thead>\n",
       "    <tr style=\"text-align: right;\">\n",
       "      <th></th>\n",
       "      <th>#</th>\n",
       "      <th>Column</th>\n",
       "      <th>Non-Null Count</th>\n",
       "      <th>Dtype</th>\n",
       "    </tr>\n",
       "  </thead>\n",
       "  <tbody>\n",
       "    <tr>\n",
       "      <th>0</th>\n",
       "      <td>1</td>\n",
       "      <td>num_subs</td>\n",
       "      <td>6129</td>\n",
       "      <td>int64</td>\n",
       "    </tr>\n",
       "    <tr>\n",
       "      <th>1</th>\n",
       "      <td>2</td>\n",
       "      <td>account_age</td>\n",
       "      <td>6129</td>\n",
       "      <td>float64</td>\n",
       "    </tr>\n",
       "    <tr>\n",
       "      <th>2</th>\n",
       "      <td>3</td>\n",
       "      <td>located</td>\n",
       "      <td>6129</td>\n",
       "      <td>object</td>\n",
       "    </tr>\n",
       "    <tr>\n",
       "      <th>3</th>\n",
       "      <td>4</td>\n",
       "      <td>complex</td>\n",
       "      <td>6129</td>\n",
       "      <td>object</td>\n",
       "    </tr>\n",
       "    <tr>\n",
       "      <th>4</th>\n",
       "      <td>5</td>\n",
       "      <td>autonomy</td>\n",
       "      <td>6129</td>\n",
       "      <td>object</td>\n",
       "    </tr>\n",
       "  </tbody>\n",
       "</table>\n",
       "</div>"
      ],
      "text/plain": [
       "   #       Column Non-Null Count    Dtype\n",
       "0  1     num_subs           6129    int64\n",
       "1  2  account_age           6129  float64\n",
       "2  3      located           6129   object\n",
       "3  4      complex           6129   object\n",
       "4  5     autonomy           6129   object"
      ]
     },
     "execution_count": 31,
     "metadata": {},
     "output_type": "execute_result"
    }
   ],
   "source": [
    "from IPython.display import Markdown\n",
    "import matplotlib.pyplot as plt\n",
    "\n",
    "cluster_df_new = cluster_df.drop(columns = ['Product', 'stripeCustID', 'userID','pProfileID',\\\n",
    "                                            'focus', 'typeOfPractice', 'specialities', 'population',\\\n",
    "                                            'country', 'metaGoalTitle'])\n",
    "import io\n",
    "buffer = io.StringIO()\n",
    "cluster_df_new.info(buf=buffer)\n",
    "lines = buffer.getvalue().splitlines()\n",
    "column_df_new = (pd.DataFrame([x.split() for x in lines[6:-2]], columns=lines[3].split())\n",
    "       .drop('Count',axis=1)\n",
    "       .rename(columns={'Non-Null':'Non-Null Count'}))\n",
    "column_df_new.head()"
   ]
  },
  {
   "cell_type": "code",
   "execution_count": 32,
   "id": "aa801cbd-ff7b-440e-975a-57739845d39b",
   "metadata": {},
   "outputs": [
    {
     "data": {
      "text/plain": [
       "['located',\n",
       " 'complex',\n",
       " 'autonomy',\n",
       " 'access',\n",
       " 'startDate',\n",
       " 'endDate',\n",
       " 'createDate',\n",
       " 'favActivityType',\n",
       " '2ndFavActivityType',\n",
       " 'plan_type',\n",
       " 'col_labels']"
      ]
     },
     "execution_count": 32,
     "metadata": {},
     "output_type": "execute_result"
    }
   ],
   "source": [
    "cat_col_list = list(column_df_new[column_df_new['Dtype'] == 'object'].Column)\n",
    "cat_col_list.append('col_labels')\n",
    "non_cat_col_list= list(column_df_new[column_df_new['Dtype'] != 'object'].Column)\n",
    "\n",
    "cat_col_list\n",
    "# non_cat_col_list"
   ]
  },
  {
   "cell_type": "markdown",
   "id": "4e969667-2b30-4b40-83e1-dbece115813b",
   "metadata": {},
   "source": [
    "## num feature plotting"
   ]
  },
  {
   "cell_type": "code",
   "execution_count": null,
   "id": "ff0a886e-42e3-4150-9fa4-723339060ca9",
   "metadata": {},
   "outputs": [
    {
     "data": {
      "image/png": "[encoded data removed]",
      "text/plain": [
       "<Figure size 432x288 with 1 Axes>"
      ]
     },
     "metadata": {
      "needs_background": "light"
     },
     "output_type": "display_data"
    },
    {
     "data": {
      "image/png": "[encoded data removed]",
      "text/plain": [
       "<Figure size 432x288 with 1 Axes>"
      ]
     },
     "metadata": {
      "needs_background": "light"
     },
     "output_type": "display_data"
    }
   ],
   "source": [
    "x = 'col_labels'\n",
    "all_vars = non_cat_col_list\n",
    "           \n",
    "for y in non_cat_col_list:\n",
    "    sns.histplot(x = x, y =y, hue = x,data = cluster_df_new.sample(1000), palette='bright')\n",
    "    plt.show()\n",
    "    plt.close() \n"
   ]
  },
  {
   "cell_type": "markdown",
   "id": "ccd77e48-7f80-4ed5-a2a2-3470fff19997",
   "metadata": {},
   "source": [
    "## cat columns plotting"
   ]
  },
  {
   "cell_type": "code",
   "execution_count": 39,
   "id": "382050b3-553b-47df-8ba1-72a60c696b9f",
   "metadata": {},
   "outputs": [
    {
     "data": {
      "image/png": "[encoded data removed]",
      "text/plain": [
       "<Figure size 432x288 with 2 Axes>"
      ]
     },
     "metadata": {
      "needs_background": "light"
     },
     "output_type": "display_data"
    },
    {
     "data": {
      "image/png": "[encoded data removed]",
      "text/plain": [
       "<Figure size 432x288 with 2 Axes>"
      ]
     },
     "metadata": {
      "needs_background": "light"
     },
     "output_type": "display_data"
    },
    {
     "data": {
      "image/png": "[encoded data removed]",
      "text/plain": [
       "<Figure size 432x288 with 2 Axes>"
      ]
     },
     "metadata": {
      "needs_background": "light"
     },
     "output_type": "display_data"
    },
    {
     "data": {
      "image/png": "[encoded data removed]",
      "text/plain": [
       "<Figure size 432x288 with 2 Axes>"
      ]
     },
     "metadata": {
      "needs_background": "light"
     },
     "output_type": "display_data"
    },
    {
     "data": {
      "image/png": "[encoded data removed]",
      "text/plain": [
       "<Figure size 432x288 with 2 Axes>"
      ]
     },
     "metadata": {
      "needs_background": "light"
     },
     "output_type": "display_data"
    },
    {
     "data": {
      "image/png": "[encoded data removed]",
      "text/plain": [
       "<Figure size 432x288 with 2 Axes>"
      ]
     },
     "metadata": {
      "needs_background": "light"
     },
     "output_type": "display_data"
    },
    {
     "data": {
      "image/png": "[encoded data removed]",
      "text/plain": [
       "<Figure size 432x288 with 2 Axes>"
      ]
     },
     "metadata": {
      "needs_background": "light"
     },
     "output_type": "display_data"
    },
    {
     "data": {
      "image/png": "[encoded data removed]",
      "text/plain": [
       "<Figure size 432x288 with 2 Axes>"
      ]
     },
     "metadata": {
      "needs_background": "light"
     },
     "output_type": "display_data"
    },
    {
     "data": {
      "image/png": "[encoded data removed]",
      "text/plain": [
       "<Figure size 432x288 with 2 Axes>"
      ]
     },
     "metadata": {
      "needs_background": "light"
     },
     "output_type": "display_data"
    },
    {
     "data": {
      "image/png": "[encoded data removed]",
      "text/plain": [
       "<Figure size 432x288 with 2 Axes>"
      ]
     },
     "metadata": {
      "needs_background": "light"
     },
     "output_type": "display_data"
    },
    {
     "ename": "ValueError",
     "evalue": "Grouper for 'col_labels' not 1-dimensional",
     "output_type": "error",
     "traceback": [
      "\u001b[0;31m---------------------------------------------------------------------------\u001b[0m",
      "\u001b[0;31mValueError\u001b[0m                                Traceback (most recent call last)",
      "Input \u001b[0;32mIn [39]\u001b[0m, in \u001b[0;36m<cell line: 3>\u001b[0;34m()\u001b[0m\n\u001b[1;32m      1\u001b[0m cluster_df_new[\u001b[38;5;124m'\u001b[39m\u001b[38;5;124mcount\u001b[39m\u001b[38;5;124m'\u001b[39m] \u001b[38;5;241m=\u001b[39m \u001b[38;5;241m1\u001b[39m\n\u001b[1;32m      3\u001b[0m \u001b[38;5;28;01mfor\u001b[39;00m feature \u001b[38;5;129;01min\u001b[39;00m cat_col_list:\n\u001b[0;32m----> 4\u001b[0m     heat_df \u001b[38;5;241m=\u001b[39m \u001b[43mpd\u001b[49m\u001b[38;5;241;43m.\u001b[39;49m\u001b[43mpivot_table\u001b[49m\u001b[43m(\u001b[49m\u001b[43mcluster_df_new\u001b[49m\u001b[38;5;241;43m.\u001b[39;49m\u001b[43msample\u001b[49m\u001b[43m(\u001b[49m\u001b[38;5;241;43m200\u001b[39;49m\u001b[43m)\u001b[49m\u001b[43m,\u001b[49m\u001b[43m \u001b[49m\u001b[43mvalues\u001b[49m\u001b[38;5;241;43m=\u001b[39;49m\u001b[38;5;124;43m'\u001b[39;49m\u001b[38;5;124;43mcount\u001b[39;49m\u001b[38;5;124;43m'\u001b[39;49m\u001b[43m,\u001b[49m\u001b[43m \u001b[49m\u001b[43mindex\u001b[49m\u001b[38;5;241;43m=\u001b[39;49m\u001b[43m[\u001b[49m\u001b[43mfeature\u001b[49m\u001b[43m]\u001b[49m\u001b[43m,\u001b[49m\n\u001b[1;32m      5\u001b[0m \u001b[43m                    \u001b[49m\u001b[43mcolumns\u001b[49m\u001b[38;5;241;43m=\u001b[39;49m\u001b[43m[\u001b[49m\u001b[38;5;124;43m'\u001b[39;49m\u001b[38;5;124;43mcol_labels\u001b[39;49m\u001b[38;5;124;43m'\u001b[39;49m\u001b[43m]\u001b[49m\u001b[43m,\u001b[49m\u001b[43m \u001b[49m\u001b[43maggfunc\u001b[49m\u001b[38;5;241;43m=\u001b[39;49m\u001b[43mnp\u001b[49m\u001b[38;5;241;43m.\u001b[39;49m\u001b[43msum\u001b[49m\u001b[43m,\u001b[49m\u001b[43m \u001b[49m\u001b[43mfill_value\u001b[49m\u001b[38;5;241;43m=\u001b[39;49m\u001b[38;5;241;43m0\u001b[39;49m\u001b[43m)\u001b[49m\n\u001b[1;32m      7\u001b[0m     \u001b[38;5;28;01mfor\u001b[39;00m col \u001b[38;5;129;01min\u001b[39;00m heat_df\u001b[38;5;241m.\u001b[39mcolumns:\n\u001b[1;32m      8\u001b[0m         total \u001b[38;5;241m=\u001b[39m heat_df[col]\u001b[38;5;241m.\u001b[39msum()\n",
      "File \u001b[0;32m~/.pyenv/versions/3.8.13/envs/customerclustering/lib/python3.8/site-packages/pandas/core/reshape/pivot.py:95\u001b[0m, in \u001b[0;36mpivot_table\u001b[0;34m(data, values, index, columns, aggfunc, fill_value, margins, dropna, margins_name, observed, sort)\u001b[0m\n\u001b[1;32m     92\u001b[0m     table \u001b[38;5;241m=\u001b[39m concat(pieces, keys\u001b[38;5;241m=\u001b[39mkeys, axis\u001b[38;5;241m=\u001b[39m\u001b[38;5;241m1\u001b[39m)\n\u001b[1;32m     93\u001b[0m     \u001b[38;5;28;01mreturn\u001b[39;00m table\u001b[38;5;241m.\u001b[39m__finalize__(data, method\u001b[38;5;241m=\u001b[39m\u001b[38;5;124m\"\u001b[39m\u001b[38;5;124mpivot_table\u001b[39m\u001b[38;5;124m\"\u001b[39m)\n\u001b[0;32m---> 95\u001b[0m table \u001b[38;5;241m=\u001b[39m \u001b[43m__internal_pivot_table\u001b[49m\u001b[43m(\u001b[49m\n\u001b[1;32m     96\u001b[0m \u001b[43m    \u001b[49m\u001b[43mdata\u001b[49m\u001b[43m,\u001b[49m\n\u001b[1;32m     97\u001b[0m \u001b[43m    \u001b[49m\u001b[43mvalues\u001b[49m\u001b[43m,\u001b[49m\n\u001b[1;32m     98\u001b[0m \u001b[43m    \u001b[49m\u001b[43mindex\u001b[49m\u001b[43m,\u001b[49m\n\u001b[1;32m     99\u001b[0m \u001b[43m    \u001b[49m\u001b[43mcolumns\u001b[49m\u001b[43m,\u001b[49m\n\u001b[1;32m    100\u001b[0m \u001b[43m    \u001b[49m\u001b[43maggfunc\u001b[49m\u001b[43m,\u001b[49m\n\u001b[1;32m    101\u001b[0m \u001b[43m    \u001b[49m\u001b[43mfill_value\u001b[49m\u001b[43m,\u001b[49m\n\u001b[1;32m    102\u001b[0m \u001b[43m    \u001b[49m\u001b[43mmargins\u001b[49m\u001b[43m,\u001b[49m\n\u001b[1;32m    103\u001b[0m \u001b[43m    \u001b[49m\u001b[43mdropna\u001b[49m\u001b[43m,\u001b[49m\n\u001b[1;32m    104\u001b[0m \u001b[43m    \u001b[49m\u001b[43mmargins_name\u001b[49m\u001b[43m,\u001b[49m\n\u001b[1;32m    105\u001b[0m \u001b[43m    \u001b[49m\u001b[43mobserved\u001b[49m\u001b[43m,\u001b[49m\n\u001b[1;32m    106\u001b[0m \u001b[43m    \u001b[49m\u001b[43msort\u001b[49m\u001b[43m,\u001b[49m\n\u001b[1;32m    107\u001b[0m \u001b[43m\u001b[49m\u001b[43m)\u001b[49m\n\u001b[1;32m    108\u001b[0m \u001b[38;5;28;01mreturn\u001b[39;00m table\u001b[38;5;241m.\u001b[39m__finalize__(data, method\u001b[38;5;241m=\u001b[39m\u001b[38;5;124m\"\u001b[39m\u001b[38;5;124mpivot_table\u001b[39m\u001b[38;5;124m\"\u001b[39m)\n",
      "File \u001b[0;32m~/.pyenv/versions/3.8.13/envs/customerclustering/lib/python3.8/site-packages/pandas/core/reshape/pivot.py:164\u001b[0m, in \u001b[0;36m__internal_pivot_table\u001b[0;34m(data, values, index, columns, aggfunc, fill_value, margins, dropna, margins_name, observed, sort)\u001b[0m\n\u001b[1;32m    161\u001b[0m             \u001b[38;5;28;01mpass\u001b[39;00m\n\u001b[1;32m    162\u001b[0m     values \u001b[38;5;241m=\u001b[39m \u001b[38;5;28mlist\u001b[39m(values)\n\u001b[0;32m--> 164\u001b[0m grouped \u001b[38;5;241m=\u001b[39m \u001b[43mdata\u001b[49m\u001b[38;5;241;43m.\u001b[39;49m\u001b[43mgroupby\u001b[49m\u001b[43m(\u001b[49m\u001b[43mkeys\u001b[49m\u001b[43m,\u001b[49m\u001b[43m \u001b[49m\u001b[43mobserved\u001b[49m\u001b[38;5;241;43m=\u001b[39;49m\u001b[43mobserved\u001b[49m\u001b[43m,\u001b[49m\u001b[43m \u001b[49m\u001b[43msort\u001b[49m\u001b[38;5;241;43m=\u001b[39;49m\u001b[43msort\u001b[49m\u001b[43m)\u001b[49m\n\u001b[1;32m    165\u001b[0m agged \u001b[38;5;241m=\u001b[39m grouped\u001b[38;5;241m.\u001b[39magg(aggfunc)\n\u001b[1;32m    166\u001b[0m \u001b[38;5;28;01mif\u001b[39;00m dropna \u001b[38;5;129;01mand\u001b[39;00m \u001b[38;5;28misinstance\u001b[39m(agged, ABCDataFrame) \u001b[38;5;129;01mand\u001b[39;00m \u001b[38;5;28mlen\u001b[39m(agged\u001b[38;5;241m.\u001b[39mcolumns):\n",
      "File \u001b[0;32m~/.pyenv/versions/3.8.13/envs/customerclustering/lib/python3.8/site-packages/pandas/core/frame.py:7718\u001b[0m, in \u001b[0;36mDataFrame.groupby\u001b[0;34m(self, by, axis, level, as_index, sort, group_keys, squeeze, observed, dropna)\u001b[0m\n\u001b[1;32m   7713\u001b[0m axis \u001b[38;5;241m=\u001b[39m \u001b[38;5;28mself\u001b[39m\u001b[38;5;241m.\u001b[39m_get_axis_number(axis)\n\u001b[1;32m   7715\u001b[0m \u001b[38;5;66;03m# https://github.com/python/mypy/issues/7642\u001b[39;00m\n\u001b[1;32m   7716\u001b[0m \u001b[38;5;66;03m# error: Argument \"squeeze\" to \"DataFrameGroupBy\" has incompatible type\u001b[39;00m\n\u001b[1;32m   7717\u001b[0m \u001b[38;5;66;03m# \"Union[bool, NoDefault]\"; expected \"bool\"\u001b[39;00m\n\u001b[0;32m-> 7718\u001b[0m \u001b[38;5;28;01mreturn\u001b[39;00m \u001b[43mDataFrameGroupBy\u001b[49m\u001b[43m(\u001b[49m\n\u001b[1;32m   7719\u001b[0m \u001b[43m    \u001b[49m\u001b[43mobj\u001b[49m\u001b[38;5;241;43m=\u001b[39;49m\u001b[38;5;28;43mself\u001b[39;49m\u001b[43m,\u001b[49m\n\u001b[1;32m   7720\u001b[0m \u001b[43m    \u001b[49m\u001b[43mkeys\u001b[49m\u001b[38;5;241;43m=\u001b[39;49m\u001b[43mby\u001b[49m\u001b[43m,\u001b[49m\n\u001b[1;32m   7721\u001b[0m \u001b[43m    \u001b[49m\u001b[43maxis\u001b[49m\u001b[38;5;241;43m=\u001b[39;49m\u001b[43maxis\u001b[49m\u001b[43m,\u001b[49m\n\u001b[1;32m   7722\u001b[0m \u001b[43m    \u001b[49m\u001b[43mlevel\u001b[49m\u001b[38;5;241;43m=\u001b[39;49m\u001b[43mlevel\u001b[49m\u001b[43m,\u001b[49m\n\u001b[1;32m   7723\u001b[0m \u001b[43m    \u001b[49m\u001b[43mas_index\u001b[49m\u001b[38;5;241;43m=\u001b[39;49m\u001b[43mas_index\u001b[49m\u001b[43m,\u001b[49m\n\u001b[1;32m   7724\u001b[0m \u001b[43m    \u001b[49m\u001b[43msort\u001b[49m\u001b[38;5;241;43m=\u001b[39;49m\u001b[43msort\u001b[49m\u001b[43m,\u001b[49m\n\u001b[1;32m   7725\u001b[0m \u001b[43m    \u001b[49m\u001b[43mgroup_keys\u001b[49m\u001b[38;5;241;43m=\u001b[39;49m\u001b[43mgroup_keys\u001b[49m\u001b[43m,\u001b[49m\n\u001b[1;32m   7726\u001b[0m \u001b[43m    \u001b[49m\u001b[43msqueeze\u001b[49m\u001b[38;5;241;43m=\u001b[39;49m\u001b[43msqueeze\u001b[49m\u001b[43m,\u001b[49m\u001b[43m  \u001b[49m\u001b[38;5;66;43;03m# type: ignore[arg-type]\u001b[39;49;00m\n\u001b[1;32m   7727\u001b[0m \u001b[43m    \u001b[49m\u001b[43mobserved\u001b[49m\u001b[38;5;241;43m=\u001b[39;49m\u001b[43mobserved\u001b[49m\u001b[43m,\u001b[49m\n\u001b[1;32m   7728\u001b[0m \u001b[43m    \u001b[49m\u001b[43mdropna\u001b[49m\u001b[38;5;241;43m=\u001b[39;49m\u001b[43mdropna\u001b[49m\u001b[43m,\u001b[49m\n\u001b[1;32m   7729\u001b[0m \u001b[43m\u001b[49m\u001b[43m)\u001b[49m\n",
      "File \u001b[0;32m~/.pyenv/versions/3.8.13/envs/customerclustering/lib/python3.8/site-packages/pandas/core/groupby/groupby.py:882\u001b[0m, in \u001b[0;36mGroupBy.__init__\u001b[0;34m(self, obj, keys, axis, level, grouper, exclusions, selection, as_index, sort, group_keys, squeeze, observed, mutated, dropna)\u001b[0m\n\u001b[1;32m    879\u001b[0m \u001b[38;5;28;01mif\u001b[39;00m grouper \u001b[38;5;129;01mis\u001b[39;00m \u001b[38;5;28;01mNone\u001b[39;00m:\n\u001b[1;32m    880\u001b[0m     \u001b[38;5;28;01mfrom\u001b[39;00m \u001b[38;5;21;01mpandas\u001b[39;00m\u001b[38;5;21;01m.\u001b[39;00m\u001b[38;5;21;01mcore\u001b[39;00m\u001b[38;5;21;01m.\u001b[39;00m\u001b[38;5;21;01mgroupby\u001b[39;00m\u001b[38;5;21;01m.\u001b[39;00m\u001b[38;5;21;01mgrouper\u001b[39;00m \u001b[38;5;28;01mimport\u001b[39;00m get_grouper\n\u001b[0;32m--> 882\u001b[0m     grouper, exclusions, obj \u001b[38;5;241m=\u001b[39m \u001b[43mget_grouper\u001b[49m\u001b[43m(\u001b[49m\n\u001b[1;32m    883\u001b[0m \u001b[43m        \u001b[49m\u001b[43mobj\u001b[49m\u001b[43m,\u001b[49m\n\u001b[1;32m    884\u001b[0m \u001b[43m        \u001b[49m\u001b[43mkeys\u001b[49m\u001b[43m,\u001b[49m\n\u001b[1;32m    885\u001b[0m \u001b[43m        \u001b[49m\u001b[43maxis\u001b[49m\u001b[38;5;241;43m=\u001b[39;49m\u001b[43maxis\u001b[49m\u001b[43m,\u001b[49m\n\u001b[1;32m    886\u001b[0m \u001b[43m        \u001b[49m\u001b[43mlevel\u001b[49m\u001b[38;5;241;43m=\u001b[39;49m\u001b[43mlevel\u001b[49m\u001b[43m,\u001b[49m\n\u001b[1;32m    887\u001b[0m \u001b[43m        \u001b[49m\u001b[43msort\u001b[49m\u001b[38;5;241;43m=\u001b[39;49m\u001b[43msort\u001b[49m\u001b[43m,\u001b[49m\n\u001b[1;32m    888\u001b[0m \u001b[43m        \u001b[49m\u001b[43mobserved\u001b[49m\u001b[38;5;241;43m=\u001b[39;49m\u001b[43mobserved\u001b[49m\u001b[43m,\u001b[49m\n\u001b[1;32m    889\u001b[0m \u001b[43m        \u001b[49m\u001b[43mmutated\u001b[49m\u001b[38;5;241;43m=\u001b[39;49m\u001b[38;5;28;43mself\u001b[39;49m\u001b[38;5;241;43m.\u001b[39;49m\u001b[43mmutated\u001b[49m\u001b[43m,\u001b[49m\n\u001b[1;32m    890\u001b[0m \u001b[43m        \u001b[49m\u001b[43mdropna\u001b[49m\u001b[38;5;241;43m=\u001b[39;49m\u001b[38;5;28;43mself\u001b[39;49m\u001b[38;5;241;43m.\u001b[39;49m\u001b[43mdropna\u001b[49m\u001b[43m,\u001b[49m\n\u001b[1;32m    891\u001b[0m \u001b[43m    \u001b[49m\u001b[43m)\u001b[49m\n\u001b[1;32m    893\u001b[0m \u001b[38;5;28mself\u001b[39m\u001b[38;5;241m.\u001b[39mobj \u001b[38;5;241m=\u001b[39m obj\n\u001b[1;32m    894\u001b[0m \u001b[38;5;28mself\u001b[39m\u001b[38;5;241m.\u001b[39maxis \u001b[38;5;241m=\u001b[39m obj\u001b[38;5;241m.\u001b[39m_get_axis_number(axis)\n",
      "File \u001b[0;32m~/.pyenv/versions/3.8.13/envs/customerclustering/lib/python3.8/site-packages/pandas/core/groupby/grouper.py:877\u001b[0m, in \u001b[0;36mget_grouper\u001b[0;34m(obj, key, axis, level, sort, observed, mutated, validate, dropna)\u001b[0m\n\u001b[1;32m    873\u001b[0m     in_axis, name, gpr \u001b[38;5;241m=\u001b[39m \u001b[38;5;28;01mTrue\u001b[39;00m, gpr, obj[gpr]\n\u001b[1;32m    874\u001b[0m     \u001b[38;5;28;01mif\u001b[39;00m gpr\u001b[38;5;241m.\u001b[39mndim \u001b[38;5;241m!=\u001b[39m \u001b[38;5;241m1\u001b[39m:\n\u001b[1;32m    875\u001b[0m         \u001b[38;5;66;03m# non-unique columns; raise here to get the name in the\u001b[39;00m\n\u001b[1;32m    876\u001b[0m         \u001b[38;5;66;03m# exception message\u001b[39;00m\n\u001b[0;32m--> 877\u001b[0m         \u001b[38;5;28;01mraise\u001b[39;00m \u001b[38;5;167;01mValueError\u001b[39;00m(\u001b[38;5;124mf\u001b[39m\u001b[38;5;124m\"\u001b[39m\u001b[38;5;124mGrouper for \u001b[39m\u001b[38;5;124m'\u001b[39m\u001b[38;5;132;01m{\u001b[39;00mname\u001b[38;5;132;01m}\u001b[39;00m\u001b[38;5;124m'\u001b[39m\u001b[38;5;124m not 1-dimensional\u001b[39m\u001b[38;5;124m\"\u001b[39m)\n\u001b[1;32m    878\u001b[0m     exclusions\u001b[38;5;241m.\u001b[39madd(name)\n\u001b[1;32m    879\u001b[0m \u001b[38;5;28;01melif\u001b[39;00m obj\u001b[38;5;241m.\u001b[39m_is_level_reference(gpr, axis\u001b[38;5;241m=\u001b[39maxis):\n",
      "\u001b[0;31mValueError\u001b[0m: Grouper for 'col_labels' not 1-dimensional"
     ]
    },
    {
     "data": {
      "text/plain": [
       "<Figure size 432x288 with 0 Axes>"
      ]
     },
     "metadata": {},
     "output_type": "display_data"
    }
   ],
   "source": [
    "cluster_df_new['count'] = 1\n",
    "\n",
    "for feature in cat_col_list:\n",
    "    heat_df = pd.pivot_table(cluster_df_new.sample(200), values='count', index=[feature],\n",
    "                    columns=['col_labels'], aggfunc=np.sum, fill_value=0)\n",
    "\n",
    "    for col in heat_df.columns:\n",
    "        total = heat_df[col].sum()\n",
    "        heat_df[col] = round(heat_df[col]/total,1)\n",
    "\n",
    "    sns.heatmap(heat_df, annot = True)\n",
    "    plt.show()\n",
    "    plt.savefig(f\"../png_folder/{feature}.png\")"
   ]
  },
  {
   "cell_type": "code",
   "execution_count": null,
   "id": "749d1174-51d5-4026-aa15-7cb610f17dbf",
   "metadata": {},
   "outputs": [],
   "source": []
  }
 ],
 "metadata": {
  "kernelspec": {
   "display_name": "Python 3 (ipykernel)",
   "language": "python",
   "name": "python3"
  },
  "language_info": {
   "codemirror_mode": {
    "name": "ipython",
    "version": 3
   },
   "file_extension": ".py",
   "mimetype": "text/x-python",
   "name": "python",
   "nbconvert_exporter": "python",
   "pygments_lexer": "ipython3",
   "version": "3.8.13"
  }
 },
 "nbformat": 4,
 "nbformat_minor": 5
}
